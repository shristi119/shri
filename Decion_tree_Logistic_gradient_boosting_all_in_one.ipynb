{
 "cells": [
  {
   "cell_type": "code",
   "execution_count": 91,
   "metadata": {},
   "outputs": [],
   "source": [
    "import numpy as np\n",
    "import pandas as pd\n",
    "\n",
    "from sklearn import preprocessing\n",
    "from sklearn.impute import SimpleImputer\n",
    "\n",
    "from sklearn.compose import ColumnTransformer\n",
    "\n",
    "from sklearn.preprocessing import StandardScaler\n",
    "from sklearn.preprocessing import OneHotEncoder\n",
    "from sklearn.model_selection import train_test_split\n",
    "from sklearn.pipeline import Pipeline\n",
    "from sklearn.model_selection import GridSearchCV, cross_val_score, StratifiedKFold\n",
    "\n",
    "from sklearn.tree import DecisionTreeClassifier\n",
    "from sklearn.ensemble import RandomForestClassifier\n",
    "from sklearn.svm import SVC\n",
    "from sklearn.linear_model import LogisticRegression\n",
    "\n",
    "from sklearn.ensemble import GradientBoostingClassifier\n",
    "from sklearn.ensemble import AdaBoostClassifier\n",
    "from sklearn.metrics import confusion_matrix\n",
    "\n",
    "import matplotlib.pyplot as plt\n",
    "import seaborn as sns\n",
    "from imblearn.over_sampling import SMOTE\n",
    "from sklearn.metrics import accuracy_score, recall_score, precision_score\n",
    "\n",
    "import warnings\n",
    "warnings.filterwarnings('ignore')"
   ]
  },
  {
   "cell_type": "code",
   "execution_count": 92,
   "metadata": {},
   "outputs": [
    {
     "data": {
      "text/plain": [
       "'/Users/applemacbook/Desktop/machinelearning'"
      ]
     },
     "execution_count": 92,
     "metadata": {},
     "output_type": "execute_result"
    }
   ],
   "source": [
    "import os\n",
    "os.getcwd()"
   ]
  },
  {
   "cell_type": "code",
   "execution_count": 93,
   "metadata": {},
   "outputs": [],
   "source": [
    "# Read the train and test data\n",
    "\n",
    "data_train_work = pd.read_csv(\"train_work.csv\")\n",
    "data_train_attrition = pd.read_csv(\"train_attrition.csv\")\n",
    "\n",
    "data_test_work = pd.read_csv(\"test_work.csv\")\n",
    "data_employee_history = pd.read_csv(\"employee_data2.csv\")"
   ]
  },
  {
   "cell_type": "code",
   "execution_count": 94,
   "metadata": {},
   "outputs": [],
   "source": [
    "# Grouping all the employees of train data as the employee id is not unique\n",
    "data_train_work = data_train_work.groupby(['EmployeeID']).agg('sum')"
   ]
  },
  {
   "cell_type": "code",
   "execution_count": 95,
   "metadata": {},
   "outputs": [],
   "source": [
    "# Grouping all the employees for test data as employee id is not unique\n",
    "data_test_work = data_test_work.groupby(['EmployeeID']).agg('sum')"
   ]
  },
  {
   "cell_type": "code",
   "execution_count": 96,
   "metadata": {},
   "outputs": [],
   "source": [
    "# combine all job history in to numeric data\n",
    "data_employee_history.Job_History = data_employee_history.Job_History.str.strip().str.split(',').apply(len)"
   ]
  },
  {
   "cell_type": "code",
   "execution_count": 97,
   "metadata": {},
   "outputs": [],
   "source": [
    "# Change joining date to number of years of experience to check the dependency\n",
    "data_employee_history.Joining_Date = data_employee_history.Joining_Date.str.split('_').str[0]"
   ]
  },
  {
   "cell_type": "code",
   "execution_count": 98,
   "metadata": {},
   "outputs": [],
   "source": [
    "data_employee_history.Joining_Date = data_employee_history.Joining_Date.astype('int64')"
   ]
  },
  {
   "cell_type": "code",
   "execution_count": 99,
   "metadata": {},
   "outputs": [],
   "source": [
    "data_employee_history.Joining_Date =  2019 - data_employee_history.Joining_Date"
   ]
  },
  {
   "cell_type": "code",
   "execution_count": 100,
   "metadata": {},
   "outputs": [
    {
     "data": {
      "text/plain": [
       "EmployeeID      object\n",
       "Job_History      int64\n",
       "Joining_Date     int64\n",
       "Designation     object\n",
       "Sex              int64\n",
       "dtype: object"
      ]
     },
     "execution_count": 100,
     "metadata": {},
     "output_type": "execute_result"
    }
   ],
   "source": [
    "data_employee_history.dtypes"
   ]
  },
  {
   "cell_type": "code",
   "execution_count": 101,
   "metadata": {},
   "outputs": [
    {
     "data": {
      "text/html": [
       "<div>\n",
       "<style scoped>\n",
       "    .dataframe tbody tr th:only-of-type {\n",
       "        vertical-align: middle;\n",
       "    }\n",
       "\n",
       "    .dataframe tbody tr th {\n",
       "        vertical-align: top;\n",
       "    }\n",
       "\n",
       "    .dataframe thead th {\n",
       "        text-align: right;\n",
       "    }\n",
       "</style>\n",
       "<table border=\"1\" class=\"dataframe\">\n",
       "  <thead>\n",
       "    <tr style=\"text-align: right;\">\n",
       "      <th></th>\n",
       "      <th>EmployeeID</th>\n",
       "      <th>Job_History</th>\n",
       "      <th>Joining_Date</th>\n",
       "      <th>Designation</th>\n",
       "      <th>Sex</th>\n",
       "    </tr>\n",
       "  </thead>\n",
       "  <tbody>\n",
       "    <tr>\n",
       "      <th>0</th>\n",
       "      <td>emp-10</td>\n",
       "      <td>4</td>\n",
       "      <td>13</td>\n",
       "      <td>VP</td>\n",
       "      <td>0</td>\n",
       "    </tr>\n",
       "    <tr>\n",
       "      <th>1</th>\n",
       "      <td>emp-108</td>\n",
       "      <td>4</td>\n",
       "      <td>7</td>\n",
       "      <td>VP</td>\n",
       "      <td>1</td>\n",
       "    </tr>\n",
       "    <tr>\n",
       "      <th>2</th>\n",
       "      <td>emp-115</td>\n",
       "      <td>5</td>\n",
       "      <td>7</td>\n",
       "      <td>Senior</td>\n",
       "      <td>1</td>\n",
       "    </tr>\n",
       "    <tr>\n",
       "      <th>3</th>\n",
       "      <td>emp-121</td>\n",
       "      <td>6</td>\n",
       "      <td>7</td>\n",
       "      <td>VP</td>\n",
       "      <td>1</td>\n",
       "    </tr>\n",
       "    <tr>\n",
       "      <th>4</th>\n",
       "      <td>emp-138</td>\n",
       "      <td>5</td>\n",
       "      <td>7</td>\n",
       "      <td>Senior</td>\n",
       "      <td>1</td>\n",
       "    </tr>\n",
       "  </tbody>\n",
       "</table>\n",
       "</div>"
      ],
      "text/plain": [
       "  EmployeeID  Job_History  Joining_Date Designation  Sex\n",
       "0     emp-10            4            13          VP    0\n",
       "1    emp-108            4             7          VP    1\n",
       "2    emp-115            5             7      Senior    1\n",
       "3    emp-121            6             7          VP    1\n",
       "4    emp-138            5             7      Senior    1"
      ]
     },
     "execution_count": 101,
     "metadata": {},
     "output_type": "execute_result"
    }
   ],
   "source": [
    "#top 5 rows\n",
    "data_employee_history.head()"
   ]
  },
  {
   "cell_type": "code",
   "execution_count": 102,
   "metadata": {},
   "outputs": [
    {
     "data": {
      "text/html": [
       "<div>\n",
       "<style scoped>\n",
       "    .dataframe tbody tr th:only-of-type {\n",
       "        vertical-align: middle;\n",
       "    }\n",
       "\n",
       "    .dataframe tbody tr th {\n",
       "        vertical-align: top;\n",
       "    }\n",
       "\n",
       "    .dataframe thead th {\n",
       "        text-align: right;\n",
       "    }\n",
       "</style>\n",
       "<table border=\"1\" class=\"dataframe\">\n",
       "  <thead>\n",
       "    <tr style=\"text-align: right;\">\n",
       "      <th></th>\n",
       "      <th>EmployeeID</th>\n",
       "      <th>Job_History</th>\n",
       "      <th>Joining_Date</th>\n",
       "      <th>Designation</th>\n",
       "      <th>Sex</th>\n",
       "    </tr>\n",
       "  </thead>\n",
       "  <tbody>\n",
       "    <tr>\n",
       "      <th>0</th>\n",
       "      <td>emp-10</td>\n",
       "      <td>4</td>\n",
       "      <td>13</td>\n",
       "      <td>VP</td>\n",
       "      <td>0</td>\n",
       "    </tr>\n",
       "    <tr>\n",
       "      <th>1</th>\n",
       "      <td>emp-108</td>\n",
       "      <td>4</td>\n",
       "      <td>7</td>\n",
       "      <td>VP</td>\n",
       "      <td>1</td>\n",
       "    </tr>\n",
       "    <tr>\n",
       "      <th>2</th>\n",
       "      <td>emp-115</td>\n",
       "      <td>5</td>\n",
       "      <td>7</td>\n",
       "      <td>Senior</td>\n",
       "      <td>1</td>\n",
       "    </tr>\n",
       "    <tr>\n",
       "      <th>3</th>\n",
       "      <td>emp-121</td>\n",
       "      <td>6</td>\n",
       "      <td>7</td>\n",
       "      <td>VP</td>\n",
       "      <td>1</td>\n",
       "    </tr>\n",
       "    <tr>\n",
       "      <th>4</th>\n",
       "      <td>emp-138</td>\n",
       "      <td>5</td>\n",
       "      <td>7</td>\n",
       "      <td>Senior</td>\n",
       "      <td>1</td>\n",
       "    </tr>\n",
       "  </tbody>\n",
       "</table>\n",
       "</div>"
      ],
      "text/plain": [
       "  EmployeeID  Job_History  Joining_Date Designation  Sex\n",
       "0     emp-10            4            13          VP    0\n",
       "1    emp-108            4             7          VP    1\n",
       "2    emp-115            5             7      Senior    1\n",
       "3    emp-121            6             7          VP    1\n",
       "4    emp-138            5             7      Senior    1"
      ]
     },
     "execution_count": 102,
     "metadata": {},
     "output_type": "execute_result"
    }
   ],
   "source": [
    "#top 5 rows\n",
    "data_employee_history.head()"
   ]
  },
  {
   "cell_type": "code",
   "execution_count": 103,
   "metadata": {},
   "outputs": [
    {
     "data": {
      "text/plain": [
       "EmployeeID      object\n",
       "Job_History      int64\n",
       "Joining_Date     int64\n",
       "Designation     object\n",
       "Sex              int64\n",
       "dtype: object"
      ]
     },
     "execution_count": 103,
     "metadata": {},
     "output_type": "execute_result"
    }
   ],
   "source": [
    "#data types\n",
    "data_employee_history.dtypes"
   ]
  },
  {
   "cell_type": "code",
   "execution_count": 104,
   "metadata": {},
   "outputs": [
    {
     "data": {
      "text/plain": [
       "Index(['TotalWorkingHours', 'Billable_Hours', 'Hours_off_Duty',\n",
       "       'Touring_Hours', 'NoOfProjects', 'ActualTimeSpent'],\n",
       "      dtype='object')"
      ]
     },
     "execution_count": 104,
     "metadata": {},
     "output_type": "execute_result"
    }
   ],
   "source": [
    "# Check the columns\n",
    "data_train_work.columns"
   ]
  },
  {
   "cell_type": "code",
   "execution_count": 105,
   "metadata": {},
   "outputs": [
    {
     "data": {
      "text/plain": [
       "Index(['EmployeeID', 'Left_Company'], dtype='object')"
      ]
     },
     "execution_count": 105,
     "metadata": {},
     "output_type": "execute_result"
    }
   ],
   "source": [
    "#display column names\n",
    "data_train_attrition.columns"
   ]
  },
  {
   "cell_type": "code",
   "execution_count": 106,
   "metadata": {},
   "outputs": [
    {
     "data": {
      "text/plain": [
       "Index(['EmployeeID', 'Job_History', 'Joining_Date', 'Designation', 'Sex'], dtype='object')"
      ]
     },
     "execution_count": 106,
     "metadata": {},
     "output_type": "execute_result"
    }
   ],
   "source": [
    "#display column names\n",
    "data_employee_history.columns"
   ]
  },
  {
   "cell_type": "code",
   "execution_count": 107,
   "metadata": {},
   "outputs": [
    {
     "data": {
      "text/plain": [
       "Index(['EmployeeID', 'TotalWorkingHours', 'Billable_Hours', 'Hours_off_Duty',\n",
       "       'Touring_Hours', 'NoOfProjects', 'ActualTimeSpent', 'Job_History',\n",
       "       'Joining_Date', 'Designation', 'Sex'],\n",
       "      dtype='object')"
      ]
     },
     "execution_count": 107,
     "metadata": {},
     "output_type": "execute_result"
    }
   ],
   "source": [
    "# Merge the data set two at a time\n",
    "\n",
    "data_train_1 = data_train_work.merge(data_employee_history,on=['EmployeeID'])\n",
    "\n",
    "data_train_1.columns"
   ]
  },
  {
   "cell_type": "code",
   "execution_count": 108,
   "metadata": {},
   "outputs": [],
   "source": [
    "#merging the merged one with the other one\n",
    "data_train = data_train_1.merge(data_train_attrition, on=['EmployeeID'])"
   ]
  },
  {
   "cell_type": "code",
   "execution_count": 109,
   "metadata": {},
   "outputs": [],
   "source": [
    "#merging the test data\n",
    "data_test = data_test_work.merge(data_employee_history, on=['EmployeeID'])"
   ]
  },
  {
   "cell_type": "code",
   "execution_count": 110,
   "metadata": {},
   "outputs": [
    {
     "data": {
      "text/html": [
       "<div>\n",
       "<style scoped>\n",
       "    .dataframe tbody tr th:only-of-type {\n",
       "        vertical-align: middle;\n",
       "    }\n",
       "\n",
       "    .dataframe tbody tr th {\n",
       "        vertical-align: top;\n",
       "    }\n",
       "\n",
       "    .dataframe thead th {\n",
       "        text-align: right;\n",
       "    }\n",
       "</style>\n",
       "<table border=\"1\" class=\"dataframe\">\n",
       "  <thead>\n",
       "    <tr style=\"text-align: right;\">\n",
       "      <th></th>\n",
       "      <th>EmployeeID</th>\n",
       "      <th>TotalWorkingHours</th>\n",
       "      <th>Billable_Hours</th>\n",
       "      <th>Hours_off_Duty</th>\n",
       "      <th>Touring_Hours</th>\n",
       "      <th>NoOfProjects</th>\n",
       "      <th>ActualTimeSpent</th>\n",
       "      <th>Job_History</th>\n",
       "      <th>Joining_Date</th>\n",
       "      <th>Designation</th>\n",
       "      <th>Sex</th>\n",
       "      <th>Left_Company</th>\n",
       "    </tr>\n",
       "  </thead>\n",
       "  <tbody>\n",
       "    <tr>\n",
       "      <th>0</th>\n",
       "      <td>emp-1</td>\n",
       "      <td>3424.0</td>\n",
       "      <td>2462.0</td>\n",
       "      <td>408.0</td>\n",
       "      <td>2462.0</td>\n",
       "      <td>42</td>\n",
       "      <td>2849</td>\n",
       "      <td>3</td>\n",
       "      <td>8</td>\n",
       "      <td>MD</td>\n",
       "      <td>1</td>\n",
       "      <td>0.0</td>\n",
       "    </tr>\n",
       "    <tr>\n",
       "      <th>1</th>\n",
       "      <td>emp-10</td>\n",
       "      <td>2006.0</td>\n",
       "      <td>1274.0</td>\n",
       "      <td>328.0</td>\n",
       "      <td>691.0</td>\n",
       "      <td>13</td>\n",
       "      <td>616</td>\n",
       "      <td>4</td>\n",
       "      <td>13</td>\n",
       "      <td>VP</td>\n",
       "      <td>0</td>\n",
       "      <td>1.0</td>\n",
       "    </tr>\n",
       "    <tr>\n",
       "      <th>2</th>\n",
       "      <td>emp-100</td>\n",
       "      <td>3607.0</td>\n",
       "      <td>3275.0</td>\n",
       "      <td>224.0</td>\n",
       "      <td>3235.0</td>\n",
       "      <td>23</td>\n",
       "      <td>3388</td>\n",
       "      <td>2</td>\n",
       "      <td>8</td>\n",
       "      <td>Senior</td>\n",
       "      <td>1</td>\n",
       "      <td>0.0</td>\n",
       "    </tr>\n",
       "    <tr>\n",
       "      <th>3</th>\n",
       "      <td>emp-101</td>\n",
       "      <td>4109.5</td>\n",
       "      <td>2759.5</td>\n",
       "      <td>192.0</td>\n",
       "      <td>0.0</td>\n",
       "      <td>18</td>\n",
       "      <td>1953</td>\n",
       "      <td>3</td>\n",
       "      <td>7</td>\n",
       "      <td>Senior</td>\n",
       "      <td>1</td>\n",
       "      <td>0.0</td>\n",
       "    </tr>\n",
       "    <tr>\n",
       "      <th>4</th>\n",
       "      <td>emp-102</td>\n",
       "      <td>3790.0</td>\n",
       "      <td>2720.5</td>\n",
       "      <td>344.0</td>\n",
       "      <td>1861.0</td>\n",
       "      <td>20</td>\n",
       "      <td>2254</td>\n",
       "      <td>1</td>\n",
       "      <td>8</td>\n",
       "      <td>Senior</td>\n",
       "      <td>1</td>\n",
       "      <td>0.0</td>\n",
       "    </tr>\n",
       "  </tbody>\n",
       "</table>\n",
       "</div>"
      ],
      "text/plain": [
       "  EmployeeID  TotalWorkingHours  Billable_Hours  Hours_off_Duty  \\\n",
       "0      emp-1             3424.0          2462.0           408.0   \n",
       "1     emp-10             2006.0          1274.0           328.0   \n",
       "2    emp-100             3607.0          3275.0           224.0   \n",
       "3    emp-101             4109.5          2759.5           192.0   \n",
       "4    emp-102             3790.0          2720.5           344.0   \n",
       "\n",
       "   Touring_Hours  NoOfProjects  ActualTimeSpent  Job_History  Joining_Date  \\\n",
       "0         2462.0            42             2849            3             8   \n",
       "1          691.0            13              616            4            13   \n",
       "2         3235.0            23             3388            2             8   \n",
       "3            0.0            18             1953            3             7   \n",
       "4         1861.0            20             2254            1             8   \n",
       "\n",
       "  Designation  Sex  Left_Company  \n",
       "0          MD    1           0.0  \n",
       "1          VP    0           1.0  \n",
       "2      Senior    1           0.0  \n",
       "3      Senior    1           0.0  \n",
       "4      Senior    1           0.0  "
      ]
     },
     "execution_count": 110,
     "metadata": {},
     "output_type": "execute_result"
    }
   ],
   "source": [
    "#top 5 rows\n",
    "data_train.head()"
   ]
  },
  {
   "cell_type": "code",
   "execution_count": 111,
   "metadata": {},
   "outputs": [
    {
     "data": {
      "text/plain": [
       "EmployeeID            object\n",
       "TotalWorkingHours    float64\n",
       "Billable_Hours       float64\n",
       "Hours_off_Duty       float64\n",
       "Touring_Hours        float64\n",
       "NoOfProjects           int64\n",
       "ActualTimeSpent        int64\n",
       "Job_History            int64\n",
       "Joining_Date           int64\n",
       "Designation           object\n",
       "Sex                    int64\n",
       "Left_Company         float64\n",
       "dtype: object"
      ]
     },
     "execution_count": 111,
     "metadata": {},
     "output_type": "execute_result"
    }
   ],
   "source": [
    "#data types\n",
    "data_train.dtypes"
   ]
  },
  {
   "cell_type": "code",
   "execution_count": 112,
   "metadata": {},
   "outputs": [
    {
     "data": {
      "text/html": [
       "<div>\n",
       "<style scoped>\n",
       "    .dataframe tbody tr th:only-of-type {\n",
       "        vertical-align: middle;\n",
       "    }\n",
       "\n",
       "    .dataframe tbody tr th {\n",
       "        vertical-align: top;\n",
       "    }\n",
       "\n",
       "    .dataframe thead th {\n",
       "        text-align: right;\n",
       "    }\n",
       "</style>\n",
       "<table border=\"1\" class=\"dataframe\">\n",
       "  <thead>\n",
       "    <tr style=\"text-align: right;\">\n",
       "      <th></th>\n",
       "      <th>TotalWorkingHours</th>\n",
       "      <th>Billable_Hours</th>\n",
       "      <th>Hours_off_Duty</th>\n",
       "      <th>Touring_Hours</th>\n",
       "      <th>NoOfProjects</th>\n",
       "      <th>ActualTimeSpent</th>\n",
       "      <th>Job_History</th>\n",
       "      <th>Joining_Date</th>\n",
       "      <th>Sex</th>\n",
       "      <th>Left_Company</th>\n",
       "    </tr>\n",
       "  </thead>\n",
       "  <tbody>\n",
       "    <tr>\n",
       "      <th>count</th>\n",
       "      <td>245.000000</td>\n",
       "      <td>245.000000</td>\n",
       "      <td>245.000000</td>\n",
       "      <td>245.000000</td>\n",
       "      <td>245.000000</td>\n",
       "      <td>245.000000</td>\n",
       "      <td>245.000000</td>\n",
       "      <td>245.000000</td>\n",
       "      <td>245.000000</td>\n",
       "      <td>245.000000</td>\n",
       "    </tr>\n",
       "    <tr>\n",
       "      <th>mean</th>\n",
       "      <td>3061.481224</td>\n",
       "      <td>2097.439592</td>\n",
       "      <td>261.702041</td>\n",
       "      <td>1063.230612</td>\n",
       "      <td>20.510204</td>\n",
       "      <td>1534.514286</td>\n",
       "      <td>2.771429</td>\n",
       "      <td>8.240816</td>\n",
       "      <td>0.881633</td>\n",
       "      <td>0.110204</td>\n",
       "    </tr>\n",
       "    <tr>\n",
       "      <th>std</th>\n",
       "      <td>1377.138318</td>\n",
       "      <td>1149.058255</td>\n",
       "      <td>146.644543</td>\n",
       "      <td>1077.686591</td>\n",
       "      <td>12.461288</td>\n",
       "      <td>1078.828104</td>\n",
       "      <td>1.433213</td>\n",
       "      <td>1.959416</td>\n",
       "      <td>0.323704</td>\n",
       "      <td>0.313785</td>\n",
       "    </tr>\n",
       "    <tr>\n",
       "      <th>min</th>\n",
       "      <td>90.000000</td>\n",
       "      <td>-2.000000</td>\n",
       "      <td>0.000000</td>\n",
       "      <td>0.000000</td>\n",
       "      <td>0.000000</td>\n",
       "      <td>0.000000</td>\n",
       "      <td>1.000000</td>\n",
       "      <td>6.000000</td>\n",
       "      <td>0.000000</td>\n",
       "      <td>0.000000</td>\n",
       "    </tr>\n",
       "    <tr>\n",
       "      <th>25%</th>\n",
       "      <td>1986.299999</td>\n",
       "      <td>1090.000000</td>\n",
       "      <td>145.500000</td>\n",
       "      <td>80.500000</td>\n",
       "      <td>11.000000</td>\n",
       "      <td>686.000000</td>\n",
       "      <td>2.000000</td>\n",
       "      <td>7.000000</td>\n",
       "      <td>1.000000</td>\n",
       "      <td>0.000000</td>\n",
       "    </tr>\n",
       "    <tr>\n",
       "      <th>50%</th>\n",
       "      <td>3180.000000</td>\n",
       "      <td>2145.500000</td>\n",
       "      <td>256.000000</td>\n",
       "      <td>720.000000</td>\n",
       "      <td>20.000000</td>\n",
       "      <td>1400.000000</td>\n",
       "      <td>3.000000</td>\n",
       "      <td>8.000000</td>\n",
       "      <td>1.000000</td>\n",
       "      <td>0.000000</td>\n",
       "    </tr>\n",
       "    <tr>\n",
       "      <th>75%</th>\n",
       "      <td>4228.000000</td>\n",
       "      <td>3158.000000</td>\n",
       "      <td>388.000000</td>\n",
       "      <td>1695.500000</td>\n",
       "      <td>28.000000</td>\n",
       "      <td>2324.000000</td>\n",
       "      <td>4.000000</td>\n",
       "      <td>9.000000</td>\n",
       "      <td>1.000000</td>\n",
       "      <td>0.000000</td>\n",
       "    </tr>\n",
       "    <tr>\n",
       "      <th>max</th>\n",
       "      <td>5406.900000</td>\n",
       "      <td>4279.500000</td>\n",
       "      <td>616.500000</td>\n",
       "      <td>3857.000000</td>\n",
       "      <td>78.000000</td>\n",
       "      <td>4113.000000</td>\n",
       "      <td>7.000000</td>\n",
       "      <td>17.000000</td>\n",
       "      <td>1.000000</td>\n",
       "      <td>1.000000</td>\n",
       "    </tr>\n",
       "  </tbody>\n",
       "</table>\n",
       "</div>"
      ],
      "text/plain": [
       "       TotalWorkingHours  Billable_Hours  Hours_off_Duty  Touring_Hours  \\\n",
       "count         245.000000      245.000000      245.000000     245.000000   \n",
       "mean         3061.481224     2097.439592      261.702041    1063.230612   \n",
       "std          1377.138318     1149.058255      146.644543    1077.686591   \n",
       "min            90.000000       -2.000000        0.000000       0.000000   \n",
       "25%          1986.299999     1090.000000      145.500000      80.500000   \n",
       "50%          3180.000000     2145.500000      256.000000     720.000000   \n",
       "75%          4228.000000     3158.000000      388.000000    1695.500000   \n",
       "max          5406.900000     4279.500000      616.500000    3857.000000   \n",
       "\n",
       "       NoOfProjects  ActualTimeSpent  Job_History  Joining_Date         Sex  \\\n",
       "count    245.000000       245.000000   245.000000    245.000000  245.000000   \n",
       "mean      20.510204      1534.514286     2.771429      8.240816    0.881633   \n",
       "std       12.461288      1078.828104     1.433213      1.959416    0.323704   \n",
       "min        0.000000         0.000000     1.000000      6.000000    0.000000   \n",
       "25%       11.000000       686.000000     2.000000      7.000000    1.000000   \n",
       "50%       20.000000      1400.000000     3.000000      8.000000    1.000000   \n",
       "75%       28.000000      2324.000000     4.000000      9.000000    1.000000   \n",
       "max       78.000000      4113.000000     7.000000     17.000000    1.000000   \n",
       "\n",
       "       Left_Company  \n",
       "count    245.000000  \n",
       "mean       0.110204  \n",
       "std        0.313785  \n",
       "min        0.000000  \n",
       "25%        0.000000  \n",
       "50%        0.000000  \n",
       "75%        0.000000  \n",
       "max        1.000000  "
      ]
     },
     "execution_count": 112,
     "metadata": {},
     "output_type": "execute_result"
    }
   ],
   "source": [
    "#data types\n",
    "data_train.describe()"
   ]
  },
  {
   "cell_type": "code",
   "execution_count": 113,
   "metadata": {},
   "outputs": [
    {
     "data": {
      "text/html": [
       "<div>\n",
       "<style scoped>\n",
       "    .dataframe tbody tr th:only-of-type {\n",
       "        vertical-align: middle;\n",
       "    }\n",
       "\n",
       "    .dataframe tbody tr th {\n",
       "        vertical-align: top;\n",
       "    }\n",
       "\n",
       "    .dataframe thead th {\n",
       "        text-align: right;\n",
       "    }\n",
       "</style>\n",
       "<table border=\"1\" class=\"dataframe\">\n",
       "  <thead>\n",
       "    <tr style=\"text-align: right;\">\n",
       "      <th></th>\n",
       "      <th>EmployeeID</th>\n",
       "      <th>Designation</th>\n",
       "    </tr>\n",
       "  </thead>\n",
       "  <tbody>\n",
       "    <tr>\n",
       "      <th>count</th>\n",
       "      <td>245</td>\n",
       "      <td>245</td>\n",
       "    </tr>\n",
       "    <tr>\n",
       "      <th>unique</th>\n",
       "      <td>245</td>\n",
       "      <td>5</td>\n",
       "    </tr>\n",
       "    <tr>\n",
       "      <th>top</th>\n",
       "      <td>emp-291</td>\n",
       "      <td>Junior</td>\n",
       "    </tr>\n",
       "    <tr>\n",
       "      <th>freq</th>\n",
       "      <td>1</td>\n",
       "      <td>79</td>\n",
       "    </tr>\n",
       "  </tbody>\n",
       "</table>\n",
       "</div>"
      ],
      "text/plain": [
       "       EmployeeID Designation\n",
       "count         245         245\n",
       "unique        245           5\n",
       "top       emp-291      Junior\n",
       "freq            1          79"
      ]
     },
     "execution_count": 113,
     "metadata": {},
     "output_type": "execute_result"
    }
   ],
   "source": [
    "#decsribe of all numerical and categorical data\n",
    "data_train.describe(include='object')"
   ]
  },
  {
   "cell_type": "markdown",
   "metadata": {},
   "source": [
    "Observation:\n",
    "1. Employee Id column can be dropped as it is not relating anything\n",
    "2. There are more junior emplyees in the organization\n",
    "3. More numer of people has joined the organization in 2012_05\n",
    "4. Job history column can be split based on the number of company he has worked\n",
    "5. Sex and left company needs to be categorical"
   ]
  },
  {
   "cell_type": "code",
   "execution_count": 114,
   "metadata": {},
   "outputs": [
    {
     "data": {
      "text/plain": [
       "Junior    79\n",
       "VP        63\n",
       "Senior    63\n",
       "EVP       28\n",
       "MD        12\n",
       "Name: Designation, dtype: int64"
      ]
     },
     "execution_count": 114,
     "metadata": {},
     "output_type": "execute_result"
    }
   ],
   "source": [
    "#value counts of designation\n",
    "data_train.Designation.value_counts()"
   ]
  },
  {
   "cell_type": "code",
   "execution_count": 115,
   "metadata": {},
   "outputs": [
    {
     "data": {
      "text/plain": [
       "EmployeeID           0\n",
       "TotalWorkingHours    0\n",
       "Billable_Hours       0\n",
       "Hours_off_Duty       0\n",
       "Touring_Hours        0\n",
       "NoOfProjects         0\n",
       "ActualTimeSpent      0\n",
       "Job_History          0\n",
       "Joining_Date         0\n",
       "Designation          0\n",
       "Sex                  0\n",
       "Left_Company         0\n",
       "dtype: int64"
      ]
     },
     "execution_count": 115,
     "metadata": {},
     "output_type": "execute_result"
    }
   ],
   "source": [
    "# Check for the null values in train\n",
    "data_train.isnull().sum()"
   ]
  },
  {
   "cell_type": "code",
   "execution_count": 116,
   "metadata": {},
   "outputs": [
    {
     "data": {
      "text/plain": [
       "EmployeeID           0\n",
       "TotalWorkingHours    0\n",
       "Billable_Hours       0\n",
       "Hours_off_Duty       0\n",
       "Touring_Hours        0\n",
       "NoOfProjects         0\n",
       "ActualTimeSpent      0\n",
       "Job_History          0\n",
       "Joining_Date         0\n",
       "Designation          0\n",
       "Sex                  0\n",
       "dtype: int64"
      ]
     },
     "execution_count": 116,
     "metadata": {},
     "output_type": "execute_result"
    }
   ],
   "source": [
    "# Check for the null values in test\n",
    "data_test.isnull().sum()"
   ]
  },
  {
   "cell_type": "code",
   "execution_count": 117,
   "metadata": {},
   "outputs": [
    {
     "data": {
      "image/png": "[encoded data removed]",
      "text/plain": [
       "<Figure size 432x288 with 1 Axes>"
      ]
     },
     "metadata": {
      "needs_background": "light"
     },
     "output_type": "display_data"
    },
    {
     "name": "stdout",
     "output_type": "stream",
     "text": [
      "0.0    218\n",
      "1.0     27\n",
      "Name: Left_Company, dtype: int64\n"
     ]
    }
   ],
   "source": [
    "import seaborn as sns\n",
    "import matplotlib.pyplot as plt\n",
    "\n",
    "sns.countplot(x='Left_Company',data=data_train)\n",
    "plt.show()\n",
    "\n",
    "# What are the counts?\n",
    "print(data_train.Left_Company.value_counts())\n",
    "\n",
    "left_company = len(data_train[data_train.Left_Company == '1'])\n",
    "Not_left = len(data_train[data_train.Left_Company != '0'])"
   ]
  },
  {
   "cell_type": "markdown",
   "metadata": {},
   "source": [
    "From the distribution, It seems like around 12% of employees have left company. Possible chances of class imbalance"
   ]
  },
  {
   "cell_type": "code",
   "execution_count": 118,
   "metadata": {},
   "outputs": [
    {
     "data": {
      "image/png": "[encoded data removed]",
      "text/plain": [
       "<Figure size 432x288 with 1 Axes>"
      ]
     },
     "metadata": {
      "needs_background": "light"
     },
     "output_type": "display_data"
    },
    {
     "data": {
      "text/plain": [
       "Junior    79\n",
       "VP        63\n",
       "Senior    63\n",
       "EVP       28\n",
       "MD        12\n",
       "Name: Designation, dtype: int64"
      ]
     },
     "execution_count": 118,
     "metadata": {},
     "output_type": "execute_result"
    }
   ],
   "source": [
    "sns.countplot(x=\"Designation\", data=data_train)\n",
    "plt.show()\n",
    "\n",
    "data_train.Designation.value_counts()"
   ]
  },
  {
   "cell_type": "markdown",
   "metadata": {},
   "source": [
    "Interestingly VP is high and the maximum number of Junior employees"
   ]
  },
  {
   "cell_type": "code",
   "execution_count": 119,
   "metadata": {},
   "outputs": [
    {
     "data": {
      "image/png": "[encoded data removed]",
      "text/plain": [
       "<Figure size 432x288 with 1 Axes>"
      ]
     },
     "metadata": {
      "needs_background": "light"
     },
     "output_type": "display_data"
    },
    {
     "data": {
      "text/plain": [
       "1    216\n",
       "0     29\n",
       "Name: Sex, dtype: int64"
      ]
     },
     "execution_count": 119,
     "metadata": {},
     "output_type": "execute_result"
    }
   ],
   "source": [
    "sns.countplot(x=\"Sex\", data=data_train)\n",
    "plt.show()\n",
    "\n",
    "data_train.Sex.value_counts()"
   ]
  },
  {
   "cell_type": "code",
   "execution_count": 120,
   "metadata": {},
   "outputs": [
    {
     "data": {
      "image/png": "[encoded data removed]",
      "text/plain": [
       "<Figure size 360x360 with 1 Axes>"
      ]
     },
     "metadata": {
      "needs_background": "light"
     },
     "output_type": "display_data"
    }
   ],
   "source": [
    "sns.lmplot(x='TotalWorkingHours', y='Left_Company', data=data_train)\n",
    "\n",
    "plt.show()\n"
   ]
  },
  {
   "cell_type": "code",
   "execution_count": 121,
   "metadata": {},
   "outputs": [
    {
     "data": {
      "image/png": "[encoded data removed]",
      "text/plain": [
       "<Figure size 360x360 with 1 Axes>"
      ]
     },
     "metadata": {
      "needs_background": "light"
     },
     "output_type": "display_data"
    }
   ],
   "source": [
    "sns.lmplot(x='NoOfProjects', y='Left_Company', data=data_train)\n",
    "\n",
    "plt.show()"
   ]
  },
  {
   "cell_type": "code",
   "execution_count": 122,
   "metadata": {},
   "outputs": [
    {
     "data": {
      "image/png": "[encoded data removed]",
      "text/plain": [
       "<Figure size 360x360 with 1 Axes>"
      ]
     },
     "metadata": {
      "needs_background": "light"
     },
     "output_type": "display_data"
    }
   ],
   "source": [
    "sns.lmplot(x='NoOfProjects', y='TotalWorkingHours', data=data_train)\n",
    "\n",
    "plt.show()"
   ]
  },
  {
   "cell_type": "code",
   "execution_count": 123,
   "metadata": {},
   "outputs": [
    {
     "data": {
      "image/png": "[encoded data removed]",
      "text/plain": [
       "<Figure size 360x360 with 1 Axes>"
      ]
     },
     "metadata": {
      "needs_background": "light"
     },
     "output_type": "display_data"
    }
   ],
   "source": [
    "\n",
    "#lineraly dependent variable\n",
    "sns.lmplot(x='Hours_off_Duty', y='TotalWorkingHours', data=data_train)\n",
    "\n",
    "plt.show()"
   ]
  },
  {
   "cell_type": "code",
   "execution_count": 124,
   "metadata": {},
   "outputs": [
    {
     "data": {
      "image/png": "[encoded data removed]",
      "text/plain": [
       "<Figure size 432x288 with 1 Axes>"
      ]
     },
     "metadata": {
      "needs_background": "light"
     },
     "output_type": "display_data"
    }
   ],
   "source": [
    "#Hours of duty incerases with total working hours \n",
    "sns.boxplot(x=\"TotalWorkingHours\", data=data_train, palette=\"PRGn\")\n",
    "plt.show()"
   ]
  },
  {
   "cell_type": "code",
   "execution_count": 125,
   "metadata": {},
   "outputs": [
    {
     "data": {
      "image/png": "[encoded data removed]",
      "text/plain": [
       "<Figure size 432x288 with 1 Axes>"
      ]
     },
     "metadata": {
      "needs_background": "light"
     },
     "output_type": "display_data"
    }
   ],
   "source": [
    "#outliers detected\n",
    "sns.boxplot(x=\"NoOfProjects\", data=data_train, palette=\"PRGn\")\n",
    "plt.show()"
   ]
  },
  {
   "cell_type": "code",
   "execution_count": 126,
   "metadata": {},
   "outputs": [
    {
     "data": {
      "text/plain": [
       "EmployeeID            object\n",
       "TotalWorkingHours    float64\n",
       "Billable_Hours       float64\n",
       "Hours_off_Duty       float64\n",
       "Touring_Hours        float64\n",
       "NoOfProjects           int64\n",
       "ActualTimeSpent        int64\n",
       "Job_History            int64\n",
       "Joining_Date           int64\n",
       "Designation           object\n",
       "Sex                    int64\n",
       "Left_Company         float64\n",
       "dtype: object"
      ]
     },
     "execution_count": 126,
     "metadata": {},
     "output_type": "execute_result"
    }
   ],
   "source": [
    "data_train.dtypes"
   ]
  },
  {
   "cell_type": "markdown",
   "metadata": {},
   "source": [
    "Feature Engineering\n",
    "\n",
    "\n",
    "2. Already summed all the variables based on the employee id\n",
    "3. Job history column is transformed to know number of companies the employee worked in the past\n",
    "4. Joining Date is transformed to numer of years of experience in the  company\n",
    "\n",
    "2, 3, 4 Feature engineering is performed at the begining"
   ]
  },
  {
   "cell_type": "code",
   "execution_count": 127,
   "metadata": {},
   "outputs": [
    {
     "data": {
      "text/plain": [
       "EmployeeID            object\n",
       "TotalWorkingHours    float64\n",
       "Billable_Hours       float64\n",
       "Hours_off_Duty       float64\n",
       "Touring_Hours        float64\n",
       "NoOfProjects           int64\n",
       "ActualTimeSpent        int64\n",
       "Job_History            int64\n",
       "Joining_Date           int64\n",
       "Designation           object\n",
       "Sex                    int64\n",
       "Left_Company         float64\n",
       "dtype: object"
      ]
     },
     "execution_count": 127,
     "metadata": {},
     "output_type": "execute_result"
    }
   ],
   "source": [
    "data_train.dtypes"
   ]
  },
  {
   "cell_type": "code",
   "execution_count": 128,
   "metadata": {},
   "outputs": [
    {
     "data": {
      "text/plain": [
       "EmployeeID           0\n",
       "TotalWorkingHours    0\n",
       "Billable_Hours       0\n",
       "Hours_off_Duty       0\n",
       "Touring_Hours        0\n",
       "NoOfProjects         0\n",
       "ActualTimeSpent      0\n",
       "Job_History          0\n",
       "Joining_Date         0\n",
       "Designation          0\n",
       "Sex                  0\n",
       "Left_Company         0\n",
       "dtype: int64"
      ]
     },
     "execution_count": 128,
     "metadata": {},
     "output_type": "execute_result"
    }
   ],
   "source": [
    "data_train.isnull().sum()"
   ]
  },
  {
   "cell_type": "code",
   "execution_count": 129,
   "metadata": {},
   "outputs": [],
   "source": [
    "# Convert to categorical variable\n",
    "for x in ['EmployeeID','Designation','Sex','Left_Company']:\n",
    "    data_train[x] = data_train[x].astype('category')\n",
    "\n",
    "for x in ['EmployeeID','Designation','Sex']:\n",
    "    data_test[x] = data_test[x].astype('category')\n"
   ]
  },
  {
   "cell_type": "code",
   "execution_count": 130,
   "metadata": {},
   "outputs": [
    {
     "data": {
      "text/plain": [
       "'Left_Company'"
      ]
     },
     "execution_count": 130,
     "metadata": {},
     "output_type": "execute_result"
    }
   ],
   "source": [
    "# Split Numeric and Categorical value\n",
    "# Split Numeric and Categorical variable\n",
    "\n",
    "cat_attr = list(data_train.select_dtypes(\"category\").columns)\n",
    "num_attr = list(data_train.columns.difference(cat_attr))\n",
    "\n",
    "cat_attr.pop()"
   ]
  },
  {
   "cell_type": "code",
   "execution_count": 131,
   "metadata": {},
   "outputs": [
    {
     "data": {
      "text/plain": [
       "['EmployeeID', 'Designation', 'Sex']"
      ]
     },
     "execution_count": 131,
     "metadata": {},
     "output_type": "execute_result"
    }
   ],
   "source": [
    "cat_attr"
   ]
  },
  {
   "cell_type": "code",
   "execution_count": 132,
   "metadata": {},
   "outputs": [
    {
     "data": {
      "text/plain": [
       "['ActualTimeSpent',\n",
       " 'Billable_Hours',\n",
       " 'Hours_off_Duty',\n",
       " 'Job_History',\n",
       " 'Joining_Date',\n",
       " 'NoOfProjects',\n",
       " 'TotalWorkingHours',\n",
       " 'Touring_Hours']"
      ]
     },
     "execution_count": 132,
     "metadata": {},
     "output_type": "execute_result"
    }
   ],
   "source": [
    "num_attr"
   ]
  },
  {
   "cell_type": "code",
   "execution_count": 133,
   "metadata": {},
   "outputs": [
    {
     "data": {
      "text/plain": [
       "EmployeeID           0\n",
       "TotalWorkingHours    0\n",
       "Billable_Hours       0\n",
       "Hours_off_Duty       0\n",
       "Touring_Hours        0\n",
       "NoOfProjects         0\n",
       "ActualTimeSpent      0\n",
       "Job_History          0\n",
       "Joining_Date         0\n",
       "Designation          0\n",
       "Sex                  0\n",
       "Left_Company         0\n",
       "dtype: int64"
      ]
     },
     "execution_count": 133,
     "metadata": {},
     "output_type": "execute_result"
    }
   ],
   "source": [
    "# Check for missing values\n",
    "\n",
    "data_train.isnull().sum()"
   ]
  },
  {
   "cell_type": "code",
   "execution_count": 134,
   "metadata": {},
   "outputs": [
    {
     "data": {
      "text/html": [
       "<div>\n",
       "<style scoped>\n",
       "    .dataframe tbody tr th:only-of-type {\n",
       "        vertical-align: middle;\n",
       "    }\n",
       "\n",
       "    .dataframe tbody tr th {\n",
       "        vertical-align: top;\n",
       "    }\n",
       "\n",
       "    .dataframe thead th {\n",
       "        text-align: right;\n",
       "    }\n",
       "</style>\n",
       "<table border=\"1\" class=\"dataframe\">\n",
       "  <thead>\n",
       "    <tr style=\"text-align: right;\">\n",
       "      <th></th>\n",
       "      <th>EmployeeID</th>\n",
       "      <th>TotalWorkingHours</th>\n",
       "      <th>Billable_Hours</th>\n",
       "      <th>Hours_off_Duty</th>\n",
       "      <th>Touring_Hours</th>\n",
       "      <th>NoOfProjects</th>\n",
       "      <th>ActualTimeSpent</th>\n",
       "      <th>Job_History</th>\n",
       "      <th>Joining_Date</th>\n",
       "      <th>Designation</th>\n",
       "      <th>Sex</th>\n",
       "      <th>Left_Company</th>\n",
       "    </tr>\n",
       "  </thead>\n",
       "  <tbody>\n",
       "    <tr>\n",
       "      <th>0</th>\n",
       "      <td>emp-1</td>\n",
       "      <td>3424.000000</td>\n",
       "      <td>2462.000000</td>\n",
       "      <td>408.0</td>\n",
       "      <td>2462.0</td>\n",
       "      <td>42</td>\n",
       "      <td>2849</td>\n",
       "      <td>3</td>\n",
       "      <td>8</td>\n",
       "      <td>MD</td>\n",
       "      <td>1</td>\n",
       "      <td>0.0</td>\n",
       "    </tr>\n",
       "    <tr>\n",
       "      <th>1</th>\n",
       "      <td>emp-10</td>\n",
       "      <td>2006.000000</td>\n",
       "      <td>1274.000000</td>\n",
       "      <td>328.0</td>\n",
       "      <td>691.0</td>\n",
       "      <td>13</td>\n",
       "      <td>616</td>\n",
       "      <td>4</td>\n",
       "      <td>13</td>\n",
       "      <td>VP</td>\n",
       "      <td>0</td>\n",
       "      <td>1.0</td>\n",
       "    </tr>\n",
       "    <tr>\n",
       "      <th>2</th>\n",
       "      <td>emp-100</td>\n",
       "      <td>3607.000000</td>\n",
       "      <td>3275.000000</td>\n",
       "      <td>224.0</td>\n",
       "      <td>3235.0</td>\n",
       "      <td>23</td>\n",
       "      <td>3388</td>\n",
       "      <td>2</td>\n",
       "      <td>8</td>\n",
       "      <td>Senior</td>\n",
       "      <td>1</td>\n",
       "      <td>0.0</td>\n",
       "    </tr>\n",
       "    <tr>\n",
       "      <th>3</th>\n",
       "      <td>emp-101</td>\n",
       "      <td>4109.500000</td>\n",
       "      <td>2759.500000</td>\n",
       "      <td>192.0</td>\n",
       "      <td>0.0</td>\n",
       "      <td>18</td>\n",
       "      <td>1953</td>\n",
       "      <td>3</td>\n",
       "      <td>7</td>\n",
       "      <td>Senior</td>\n",
       "      <td>1</td>\n",
       "      <td>0.0</td>\n",
       "    </tr>\n",
       "    <tr>\n",
       "      <th>4</th>\n",
       "      <td>emp-102</td>\n",
       "      <td>3790.000000</td>\n",
       "      <td>2720.500000</td>\n",
       "      <td>344.0</td>\n",
       "      <td>1861.0</td>\n",
       "      <td>20</td>\n",
       "      <td>2254</td>\n",
       "      <td>1</td>\n",
       "      <td>8</td>\n",
       "      <td>Senior</td>\n",
       "      <td>1</td>\n",
       "      <td>0.0</td>\n",
       "    </tr>\n",
       "    <tr>\n",
       "      <th>5</th>\n",
       "      <td>emp-103</td>\n",
       "      <td>3191.500000</td>\n",
       "      <td>2797.000000</td>\n",
       "      <td>213.0</td>\n",
       "      <td>2797.0</td>\n",
       "      <td>20</td>\n",
       "      <td>2366</td>\n",
       "      <td>4</td>\n",
       "      <td>8</td>\n",
       "      <td>Senior</td>\n",
       "      <td>1</td>\n",
       "      <td>0.0</td>\n",
       "    </tr>\n",
       "    <tr>\n",
       "      <th>6</th>\n",
       "      <td>emp-104</td>\n",
       "      <td>3906.000000</td>\n",
       "      <td>3279.000000</td>\n",
       "      <td>256.0</td>\n",
       "      <td>3006.0</td>\n",
       "      <td>24</td>\n",
       "      <td>1715</td>\n",
       "      <td>1</td>\n",
       "      <td>8</td>\n",
       "      <td>Senior</td>\n",
       "      <td>1</td>\n",
       "      <td>0.0</td>\n",
       "    </tr>\n",
       "    <tr>\n",
       "      <th>7</th>\n",
       "      <td>emp-105</td>\n",
       "      <td>3301.000000</td>\n",
       "      <td>2169.000000</td>\n",
       "      <td>198.0</td>\n",
       "      <td>1203.0</td>\n",
       "      <td>18</td>\n",
       "      <td>553</td>\n",
       "      <td>2</td>\n",
       "      <td>7</td>\n",
       "      <td>VP</td>\n",
       "      <td>1</td>\n",
       "      <td>0.0</td>\n",
       "    </tr>\n",
       "    <tr>\n",
       "      <th>8</th>\n",
       "      <td>emp-107</td>\n",
       "      <td>2241.500000</td>\n",
       "      <td>798.000000</td>\n",
       "      <td>196.0</td>\n",
       "      <td>798.0</td>\n",
       "      <td>7</td>\n",
       "      <td>245</td>\n",
       "      <td>4</td>\n",
       "      <td>7</td>\n",
       "      <td>EVP</td>\n",
       "      <td>1</td>\n",
       "      <td>0.0</td>\n",
       "    </tr>\n",
       "    <tr>\n",
       "      <th>9</th>\n",
       "      <td>emp-108</td>\n",
       "      <td>2715.599998</td>\n",
       "      <td>1059.099998</td>\n",
       "      <td>316.0</td>\n",
       "      <td>0.0</td>\n",
       "      <td>10</td>\n",
       "      <td>735</td>\n",
       "      <td>4</td>\n",
       "      <td>7</td>\n",
       "      <td>VP</td>\n",
       "      <td>1</td>\n",
       "      <td>1.0</td>\n",
       "    </tr>\n",
       "  </tbody>\n",
       "</table>\n",
       "</div>"
      ],
      "text/plain": [
       "  EmployeeID  TotalWorkingHours  Billable_Hours  Hours_off_Duty  \\\n",
       "0      emp-1        3424.000000     2462.000000           408.0   \n",
       "1     emp-10        2006.000000     1274.000000           328.0   \n",
       "2    emp-100        3607.000000     3275.000000           224.0   \n",
       "3    emp-101        4109.500000     2759.500000           192.0   \n",
       "4    emp-102        3790.000000     2720.500000           344.0   \n",
       "5    emp-103        3191.500000     2797.000000           213.0   \n",
       "6    emp-104        3906.000000     3279.000000           256.0   \n",
       "7    emp-105        3301.000000     2169.000000           198.0   \n",
       "8    emp-107        2241.500000      798.000000           196.0   \n",
       "9    emp-108        2715.599998     1059.099998           316.0   \n",
       "\n",
       "   Touring_Hours  NoOfProjects  ActualTimeSpent  Job_History  Joining_Date  \\\n",
       "0         2462.0            42             2849            3             8   \n",
       "1          691.0            13              616            4            13   \n",
       "2         3235.0            23             3388            2             8   \n",
       "3            0.0            18             1953            3             7   \n",
       "4         1861.0            20             2254            1             8   \n",
       "5         2797.0            20             2366            4             8   \n",
       "6         3006.0            24             1715            1             8   \n",
       "7         1203.0            18              553            2             7   \n",
       "8          798.0             7              245            4             7   \n",
       "9            0.0            10              735            4             7   \n",
       "\n",
       "  Designation Sex Left_Company  \n",
       "0          MD   1          0.0  \n",
       "1          VP   0          1.0  \n",
       "2      Senior   1          0.0  \n",
       "3      Senior   1          0.0  \n",
       "4      Senior   1          0.0  \n",
       "5      Senior   1          0.0  \n",
       "6      Senior   1          0.0  \n",
       "7          VP   1          0.0  \n",
       "8         EVP   1          0.0  \n",
       "9          VP   1          1.0  "
      ]
     },
     "execution_count": 134,
     "metadata": {},
     "output_type": "execute_result"
    }
   ],
   "source": [
    "data_train.head(10)"
   ]
  },
  {
   "cell_type": "code",
   "execution_count": 135,
   "metadata": {},
   "outputs": [
    {
     "data": {
      "text/html": [
       "<div>\n",
       "<style scoped>\n",
       "    .dataframe tbody tr th:only-of-type {\n",
       "        vertical-align: middle;\n",
       "    }\n",
       "\n",
       "    .dataframe tbody tr th {\n",
       "        vertical-align: top;\n",
       "    }\n",
       "\n",
       "    .dataframe thead th {\n",
       "        text-align: right;\n",
       "    }\n",
       "</style>\n",
       "<table border=\"1\" class=\"dataframe\">\n",
       "  <thead>\n",
       "    <tr style=\"text-align: right;\">\n",
       "      <th></th>\n",
       "      <th>TotalWorkingHours</th>\n",
       "      <th>Billable_Hours</th>\n",
       "      <th>Hours_off_Duty</th>\n",
       "      <th>Touring_Hours</th>\n",
       "      <th>NoOfProjects</th>\n",
       "      <th>ActualTimeSpent</th>\n",
       "      <th>Job_History</th>\n",
       "      <th>Joining_Date</th>\n",
       "    </tr>\n",
       "    <tr>\n",
       "      <th>Left_Company</th>\n",
       "      <th></th>\n",
       "      <th></th>\n",
       "      <th></th>\n",
       "      <th></th>\n",
       "      <th></th>\n",
       "      <th></th>\n",
       "      <th></th>\n",
       "      <th></th>\n",
       "    </tr>\n",
       "  </thead>\n",
       "  <tbody>\n",
       "    <tr>\n",
       "      <th>0.0</th>\n",
       "      <td>3078.671560</td>\n",
       "      <td>2128.448624</td>\n",
       "      <td>257.307339</td>\n",
       "      <td>1062.675688</td>\n",
       "      <td>20.509174</td>\n",
       "      <td>1552.426606</td>\n",
       "      <td>2.463303</td>\n",
       "      <td>8.123853</td>\n",
       "    </tr>\n",
       "    <tr>\n",
       "      <th>1.0</th>\n",
       "      <td>2922.685185</td>\n",
       "      <td>1847.070370</td>\n",
       "      <td>297.185185</td>\n",
       "      <td>1067.711111</td>\n",
       "      <td>20.518519</td>\n",
       "      <td>1389.888889</td>\n",
       "      <td>5.259259</td>\n",
       "      <td>9.185185</td>\n",
       "    </tr>\n",
       "  </tbody>\n",
       "</table>\n",
       "</div>"
      ],
      "text/plain": [
       "              TotalWorkingHours  Billable_Hours  Hours_off_Duty  \\\n",
       "Left_Company                                                      \n",
       "0.0                 3078.671560     2128.448624      257.307339   \n",
       "1.0                 2922.685185     1847.070370      297.185185   \n",
       "\n",
       "              Touring_Hours  NoOfProjects  ActualTimeSpent  Job_History  \\\n",
       "Left_Company                                                              \n",
       "0.0             1062.675688     20.509174      1552.426606     2.463303   \n",
       "1.0             1067.711111     20.518519      1389.888889     5.259259   \n",
       "\n",
       "              Joining_Date  \n",
       "Left_Company                \n",
       "0.0               8.123853  \n",
       "1.0               9.185185  "
      ]
     },
     "execution_count": 135,
     "metadata": {},
     "output_type": "execute_result"
    }
   ],
   "source": [
    "data_train.groupby('Left_Company').mean()"
   ]
  },
  {
   "cell_type": "markdown",
   "metadata": {},
   "source": [
    "Important observation\n",
    "\n",
    "**Employee spent more years in the company, changed multiple companies in the past and Hours_off_duty seems to be leaving company"
   ]
  },
  {
   "cell_type": "code",
   "execution_count": 136,
   "metadata": {},
   "outputs": [],
   "source": [
    "# Scaling and Imputing using the data, Keeping Imputer if the model goes to production\n",
    "\n",
    "numeric_transformer = Pipeline(steps=[\n",
    "    ('imputer', SimpleImputer(strategy='median')),\n",
    "    ('scaler', StandardScaler())])\n",
    "\n",
    "\n",
    "categorical_transformer = Pipeline(steps=[\n",
    "    ('imputer', SimpleImputer(strategy='most_frequent', fill_value='missing')),\n",
    "    ('onehot', OneHotEncoder(handle_unknown='ignore'))])\n",
    "\n",
    "preprocessor = ColumnTransformer(\n",
    "    transformers=[\n",
    "        ('num', numeric_transformer, num_attr),\n",
    "        ('cat', categorical_transformer, cat_attr)])"
   ]
  },
  {
   "cell_type": "code",
   "execution_count": 137,
   "metadata": {},
   "outputs": [],
   "source": [
    "\n",
    "clf_logreg = Pipeline(steps=[('preprocessor', preprocessor),\n",
    "                      ('classifier', LogisticRegression())])"
   ]
  },
  {
   "cell_type": "code",
   "execution_count": 138,
   "metadata": {},
   "outputs": [],
   "source": [
    "# Split X and y varaible\n",
    "X = data_train.loc[:,data_train.columns!='Left_Company']\n",
    "y=data_train.loc[:,data_train.columns=='Left_Company']"
   ]
  },
  {
   "cell_type": "code",
   "execution_count": 139,
   "metadata": {},
   "outputs": [],
   "source": [
    "#Performing train test split on the data using stratify sampling\n",
    "\n",
    "X_train, X_test, y_train, y_test = train_test_split(X, y, test_size=0.2, random_state=0, stratify=y)\n"
   ]
  },
  {
   "cell_type": "code",
   "execution_count": 140,
   "metadata": {},
   "outputs": [
    {
     "name": "stdout",
     "output_type": "stream",
     "text": [
      "(196, 11)\n",
      "(196, 1)\n"
     ]
    }
   ],
   "source": [
    "print(X_train.shape)\n",
    "print(y_train.shape)"
   ]
  },
  {
   "cell_type": "code",
   "execution_count": 141,
   "metadata": {},
   "outputs": [
    {
     "data": {
      "text/plain": [
       "Pipeline(memory=None,\n",
       "         steps=[('preprocessor',\n",
       "                 ColumnTransformer(n_jobs=None, remainder='drop',\n",
       "                                   sparse_threshold=0.3,\n",
       "                                   transformer_weights=None,\n",
       "                                   transformers=[('num',\n",
       "                                                  Pipeline(memory=None,\n",
       "                                                           steps=[('imputer',\n",
       "                                                                   SimpleImputer(add_indicator=False,\n",
       "                                                                                 copy=True,\n",
       "                                                                                 fill_value=None,\n",
       "                                                                                 missing_values=nan,\n",
       "                                                                                 strategy='median',\n",
       "                                                                                 verbose=0)),\n",
       "                                                                  ('scaler',\n",
       "                                                                   StandardScaler(copy=True,\n",
       "                                                                                  with_mean...\n",
       "                                                                                 n_values=None,\n",
       "                                                                                 sparse=True))],\n",
       "                                                           verbose=False),\n",
       "                                                  ['EmployeeID', 'Designation',\n",
       "                                                   'Sex'])],\n",
       "                                   verbose=False)),\n",
       "                ('classifier',\n",
       "                 LogisticRegression(C=1.0, class_weight=None, dual=False,\n",
       "                                    fit_intercept=True, intercept_scaling=1,\n",
       "                                    l1_ratio=None, max_iter=100,\n",
       "                                    multi_class='warn', n_jobs=None,\n",
       "                                    penalty='l2', random_state=None,\n",
       "                                    solver='warn', tol=0.0001, verbose=0,\n",
       "                                    warm_start=False))],\n",
       "         verbose=False)"
      ]
     },
     "execution_count": 141,
     "metadata": {},
     "output_type": "execute_result"
    }
   ],
   "source": [
    "#Build the model\n",
    "\n",
    "clf_logreg.fit(X_train, y_train)"
   ]
  },
  {
   "cell_type": "code",
   "execution_count": 142,
   "metadata": {},
   "outputs": [
    {
     "name": "stdout",
     "output_type": "stream",
     "text": [
      "0.9693877551020408\n",
      "[[174   0]\n",
      " [  6  16]]\n"
     ]
    }
   ],
   "source": [
    "#Validating the data on train set\n",
    "train_pred = clf_logreg.predict(X_train)\n",
    "print(clf_logreg.score(X_train, y_train))\n",
    "print(confusion_matrix(y_true=y_train, y_pred = train_pred))"
   ]
  },
  {
   "cell_type": "code",
   "execution_count": 143,
   "metadata": {},
   "outputs": [
    {
     "name": "stdout",
     "output_type": "stream",
     "text": [
      "0.9795918367346939\n",
      "[[44  0]\n",
      " [ 1  4]]\n"
     ]
    }
   ],
   "source": [
    "#Validating the data on validation set\n",
    "valid_pred = clf_logreg.predict(X_test)\n",
    "print(clf_logreg.score(X_test, y_test))\n",
    "print(confusion_matrix(y_true=y_test, y_pred = valid_pred))"
   ]
  },
  {
   "cell_type": "markdown",
   "metadata": {},
   "source": [
    "The logistic regression model seems to have no underfitting or overfitting problem after validating the train and test data set"
   ]
  },
  {
   "cell_type": "code",
   "execution_count": 144,
   "metadata": {},
   "outputs": [],
   "source": [
    "test_pred = clf_logreg.predict(data_test)\n"
   ]
  },
  {
   "cell_type": "code",
   "execution_count": 145,
   "metadata": {},
   "outputs": [],
   "source": [
    "df=pd.DataFrame(test_pred)"
   ]
  },
  {
   "cell_type": "code",
   "execution_count": 146,
   "metadata": {},
   "outputs": [
    {
     "data": {
      "text/plain": [
       "(51, 1)"
      ]
     },
     "execution_count": 146,
     "metadata": {},
     "output_type": "execute_result"
    }
   ],
   "source": [
    "df.shape"
   ]
  },
  {
   "cell_type": "code",
   "execution_count": 147,
   "metadata": {},
   "outputs": [],
   "source": [
    "df = df.rename(columns={\"0\":\"Left_Company\"})"
   ]
  },
  {
   "cell_type": "code",
   "execution_count": 148,
   "metadata": {},
   "outputs": [
    {
     "data": {
      "text/html": [
       "<div>\n",
       "<style scoped>\n",
       "    .dataframe tbody tr th:only-of-type {\n",
       "        vertical-align: middle;\n",
       "    }\n",
       "\n",
       "    .dataframe tbody tr th {\n",
       "        vertical-align: top;\n",
       "    }\n",
       "\n",
       "    .dataframe thead th {\n",
       "        text-align: right;\n",
       "    }\n",
       "</style>\n",
       "<table border=\"1\" class=\"dataframe\">\n",
       "  <thead>\n",
       "    <tr style=\"text-align: right;\">\n",
       "      <th></th>\n",
       "      <th>0</th>\n",
       "    </tr>\n",
       "  </thead>\n",
       "  <tbody>\n",
       "    <tr>\n",
       "      <th>0</th>\n",
       "      <td>0.0</td>\n",
       "    </tr>\n",
       "    <tr>\n",
       "      <th>1</th>\n",
       "      <td>0.0</td>\n",
       "    </tr>\n",
       "    <tr>\n",
       "      <th>2</th>\n",
       "      <td>0.0</td>\n",
       "    </tr>\n",
       "    <tr>\n",
       "      <th>3</th>\n",
       "      <td>0.0</td>\n",
       "    </tr>\n",
       "    <tr>\n",
       "      <th>4</th>\n",
       "      <td>0.0</td>\n",
       "    </tr>\n",
       "  </tbody>\n",
       "</table>\n",
       "</div>"
      ],
      "text/plain": [
       "     0\n",
       "0  0.0\n",
       "1  0.0\n",
       "2  0.0\n",
       "3  0.0\n",
       "4  0.0"
      ]
     },
     "execution_count": 148,
     "metadata": {},
     "output_type": "execute_result"
    }
   ],
   "source": [
    "df.head()"
   ]
  },
  {
   "cell_type": "code",
   "execution_count": 149,
   "metadata": {},
   "outputs": [
    {
     "data": {
      "text/html": [
       "<div>\n",
       "<style scoped>\n",
       "    .dataframe tbody tr th:only-of-type {\n",
       "        vertical-align: middle;\n",
       "    }\n",
       "\n",
       "    .dataframe tbody tr th {\n",
       "        vertical-align: top;\n",
       "    }\n",
       "\n",
       "    .dataframe thead th {\n",
       "        text-align: right;\n",
       "    }\n",
       "</style>\n",
       "<table border=\"1\" class=\"dataframe\">\n",
       "  <thead>\n",
       "    <tr style=\"text-align: right;\">\n",
       "      <th></th>\n",
       "      <th>EmployeeID</th>\n",
       "      <th>TotalWorkingHours</th>\n",
       "      <th>Billable_Hours</th>\n",
       "      <th>Hours_off_Duty</th>\n",
       "      <th>Touring_Hours</th>\n",
       "      <th>NoOfProjects</th>\n",
       "      <th>ActualTimeSpent</th>\n",
       "      <th>Job_History</th>\n",
       "      <th>Joining_Date</th>\n",
       "      <th>Designation</th>\n",
       "      <th>Sex</th>\n",
       "    </tr>\n",
       "  </thead>\n",
       "  <tbody>\n",
       "    <tr>\n",
       "      <th>0</th>\n",
       "      <td>emp-106</td>\n",
       "      <td>3309.5</td>\n",
       "      <td>2352.0</td>\n",
       "      <td>298.0</td>\n",
       "      <td>2.0</td>\n",
       "      <td>18</td>\n",
       "      <td>1736</td>\n",
       "      <td>4</td>\n",
       "      <td>7</td>\n",
       "      <td>Senior</td>\n",
       "      <td>0</td>\n",
       "    </tr>\n",
       "    <tr>\n",
       "      <th>1</th>\n",
       "      <td>emp-112</td>\n",
       "      <td>3178.5</td>\n",
       "      <td>2610.0</td>\n",
       "      <td>292.0</td>\n",
       "      <td>325.0</td>\n",
       "      <td>21</td>\n",
       "      <td>1708</td>\n",
       "      <td>3</td>\n",
       "      <td>7</td>\n",
       "      <td>VP</td>\n",
       "      <td>1</td>\n",
       "    </tr>\n",
       "    <tr>\n",
       "      <th>2</th>\n",
       "      <td>emp-114</td>\n",
       "      <td>3072.5</td>\n",
       "      <td>1618.7</td>\n",
       "      <td>264.0</td>\n",
       "      <td>1104.0</td>\n",
       "      <td>25</td>\n",
       "      <td>882</td>\n",
       "      <td>3</td>\n",
       "      <td>7</td>\n",
       "      <td>EVP</td>\n",
       "      <td>1</td>\n",
       "    </tr>\n",
       "    <tr>\n",
       "      <th>3</th>\n",
       "      <td>emp-118</td>\n",
       "      <td>2400.0</td>\n",
       "      <td>2008.0</td>\n",
       "      <td>146.0</td>\n",
       "      <td>728.0</td>\n",
       "      <td>18</td>\n",
       "      <td>1526</td>\n",
       "      <td>2</td>\n",
       "      <td>7</td>\n",
       "      <td>EVP</td>\n",
       "      <td>1</td>\n",
       "    </tr>\n",
       "    <tr>\n",
       "      <th>4</th>\n",
       "      <td>emp-12</td>\n",
       "      <td>4491.0</td>\n",
       "      <td>2653.0</td>\n",
       "      <td>601.0</td>\n",
       "      <td>799.0</td>\n",
       "      <td>31</td>\n",
       "      <td>1883</td>\n",
       "      <td>2</td>\n",
       "      <td>13</td>\n",
       "      <td>VP</td>\n",
       "      <td>1</td>\n",
       "    </tr>\n",
       "  </tbody>\n",
       "</table>\n",
       "</div>"
      ],
      "text/plain": [
       "  EmployeeID  TotalWorkingHours  Billable_Hours  Hours_off_Duty  \\\n",
       "0    emp-106             3309.5          2352.0           298.0   \n",
       "1    emp-112             3178.5          2610.0           292.0   \n",
       "2    emp-114             3072.5          1618.7           264.0   \n",
       "3    emp-118             2400.0          2008.0           146.0   \n",
       "4     emp-12             4491.0          2653.0           601.0   \n",
       "\n",
       "   Touring_Hours  NoOfProjects  ActualTimeSpent  Job_History  Joining_Date  \\\n",
       "0            2.0            18             1736            4             7   \n",
       "1          325.0            21             1708            3             7   \n",
       "2         1104.0            25              882            3             7   \n",
       "3          728.0            18             1526            2             7   \n",
       "4          799.0            31             1883            2            13   \n",
       "\n",
       "  Designation Sex  \n",
       "0      Senior   0  \n",
       "1          VP   1  \n",
       "2         EVP   1  \n",
       "3         EVP   1  \n",
       "4          VP   1  "
      ]
     },
     "execution_count": 149,
     "metadata": {},
     "output_type": "execute_result"
    }
   ],
   "source": [
    "data_test.head()"
   ]
  },
  {
   "cell_type": "code",
   "execution_count": 150,
   "metadata": {},
   "outputs": [],
   "source": [
    "data_final = pd.merge(data_test, df, left_index=True, right_index=True)"
   ]
  },
  {
   "cell_type": "code",
   "execution_count": 151,
   "metadata": {},
   "outputs": [
    {
     "data": {
      "text/html": [
       "<div>\n",
       "<style scoped>\n",
       "    .dataframe tbody tr th:only-of-type {\n",
       "        vertical-align: middle;\n",
       "    }\n",
       "\n",
       "    .dataframe tbody tr th {\n",
       "        vertical-align: top;\n",
       "    }\n",
       "\n",
       "    .dataframe thead th {\n",
       "        text-align: right;\n",
       "    }\n",
       "</style>\n",
       "<table border=\"1\" class=\"dataframe\">\n",
       "  <thead>\n",
       "    <tr style=\"text-align: right;\">\n",
       "      <th></th>\n",
       "      <th>EmployeeID</th>\n",
       "      <th>TotalWorkingHours</th>\n",
       "      <th>Billable_Hours</th>\n",
       "      <th>Hours_off_Duty</th>\n",
       "      <th>Touring_Hours</th>\n",
       "      <th>NoOfProjects</th>\n",
       "      <th>ActualTimeSpent</th>\n",
       "      <th>Job_History</th>\n",
       "      <th>Joining_Date</th>\n",
       "      <th>Designation</th>\n",
       "      <th>Sex</th>\n",
       "      <th>0</th>\n",
       "    </tr>\n",
       "  </thead>\n",
       "  <tbody>\n",
       "    <tr>\n",
       "      <th>0</th>\n",
       "      <td>emp-106</td>\n",
       "      <td>3309.5</td>\n",
       "      <td>2352.0</td>\n",
       "      <td>298.0</td>\n",
       "      <td>2.0</td>\n",
       "      <td>18</td>\n",
       "      <td>1736</td>\n",
       "      <td>4</td>\n",
       "      <td>7</td>\n",
       "      <td>Senior</td>\n",
       "      <td>0</td>\n",
       "      <td>0.0</td>\n",
       "    </tr>\n",
       "    <tr>\n",
       "      <th>1</th>\n",
       "      <td>emp-112</td>\n",
       "      <td>3178.5</td>\n",
       "      <td>2610.0</td>\n",
       "      <td>292.0</td>\n",
       "      <td>325.0</td>\n",
       "      <td>21</td>\n",
       "      <td>1708</td>\n",
       "      <td>3</td>\n",
       "      <td>7</td>\n",
       "      <td>VP</td>\n",
       "      <td>1</td>\n",
       "      <td>0.0</td>\n",
       "    </tr>\n",
       "    <tr>\n",
       "      <th>2</th>\n",
       "      <td>emp-114</td>\n",
       "      <td>3072.5</td>\n",
       "      <td>1618.7</td>\n",
       "      <td>264.0</td>\n",
       "      <td>1104.0</td>\n",
       "      <td>25</td>\n",
       "      <td>882</td>\n",
       "      <td>3</td>\n",
       "      <td>7</td>\n",
       "      <td>EVP</td>\n",
       "      <td>1</td>\n",
       "      <td>0.0</td>\n",
       "    </tr>\n",
       "    <tr>\n",
       "      <th>3</th>\n",
       "      <td>emp-118</td>\n",
       "      <td>2400.0</td>\n",
       "      <td>2008.0</td>\n",
       "      <td>146.0</td>\n",
       "      <td>728.0</td>\n",
       "      <td>18</td>\n",
       "      <td>1526</td>\n",
       "      <td>2</td>\n",
       "      <td>7</td>\n",
       "      <td>EVP</td>\n",
       "      <td>1</td>\n",
       "      <td>0.0</td>\n",
       "    </tr>\n",
       "    <tr>\n",
       "      <th>4</th>\n",
       "      <td>emp-12</td>\n",
       "      <td>4491.0</td>\n",
       "      <td>2653.0</td>\n",
       "      <td>601.0</td>\n",
       "      <td>799.0</td>\n",
       "      <td>31</td>\n",
       "      <td>1883</td>\n",
       "      <td>2</td>\n",
       "      <td>13</td>\n",
       "      <td>VP</td>\n",
       "      <td>1</td>\n",
       "      <td>0.0</td>\n",
       "    </tr>\n",
       "  </tbody>\n",
       "</table>\n",
       "</div>"
      ],
      "text/plain": [
       "  EmployeeID  TotalWorkingHours  Billable_Hours  Hours_off_Duty  \\\n",
       "0    emp-106             3309.5          2352.0           298.0   \n",
       "1    emp-112             3178.5          2610.0           292.0   \n",
       "2    emp-114             3072.5          1618.7           264.0   \n",
       "3    emp-118             2400.0          2008.0           146.0   \n",
       "4     emp-12             4491.0          2653.0           601.0   \n",
       "\n",
       "   Touring_Hours  NoOfProjects  ActualTimeSpent  Job_History  Joining_Date  \\\n",
       "0            2.0            18             1736            4             7   \n",
       "1          325.0            21             1708            3             7   \n",
       "2         1104.0            25              882            3             7   \n",
       "3          728.0            18             1526            2             7   \n",
       "4          799.0            31             1883            2            13   \n",
       "\n",
       "  Designation Sex    0  \n",
       "0      Senior   0  0.0  \n",
       "1          VP   1  0.0  \n",
       "2         EVP   1  0.0  \n",
       "3         EVP   1  0.0  \n",
       "4          VP   1  0.0  "
      ]
     },
     "execution_count": 151,
     "metadata": {},
     "output_type": "execute_result"
    }
   ],
   "source": [
    "data_final.head()"
   ]
  },
  {
   "cell_type": "code",
   "execution_count": 152,
   "metadata": {},
   "outputs": [],
   "source": [
    "data_test_attrition = pd.read_csv(\"test_attrition.csv\")"
   ]
  },
  {
   "cell_type": "code",
   "execution_count": 153,
   "metadata": {},
   "outputs": [],
   "source": [
    "\n",
    "data_test_attrition = data_test_attrition.merge(data_final,on=['EmployeeID'])"
   ]
  },
  {
   "cell_type": "code",
   "execution_count": 90,
   "metadata": {},
   "outputs": [],
   "source": [
    "data_test_attrition.to_csv(r'C:\\Users\\applemacbook⁩\\Desktop\\machinelearning⁩\\Logistic_output.csv', index=False,header=False)"
   ]
  },
  {
   "cell_type": "code",
   "execution_count": 69,
   "metadata": {},
   "outputs": [
    {
     "data": {
      "text/plain": [
       "EmployeeID           category\n",
       "TotalWorkingHours     float64\n",
       "Billable_Hours        float64\n",
       "Hours_off_Duty        float64\n",
       "Touring_Hours         float64\n",
       "NoOfProjects            int64\n",
       "ActualTimeSpent         int64\n",
       "Job_History             int64\n",
       "Joining_Date            int64\n",
       "Designation          category\n",
       "Sex                  category\n",
       "dtype: object"
      ]
     },
     "execution_count": 69,
     "metadata": {},
     "output_type": "execute_result"
    }
   ],
   "source": [
    "#Decision_tree_Started\n",
    "X_train.dtypes"
   ]
  },
  {
   "cell_type": "code",
   "execution_count": 70,
   "metadata": {},
   "outputs": [
    {
     "name": "stdout",
     "output_type": "stream",
     "text": [
      "CPU times: user 1min 22s, sys: 603 ms, total: 1min 23s\n",
      "Wall time: 1min 25s\n"
     ]
    },
    {
     "data": {
      "text/plain": [
       "GridSearchCV(cv=5, error_score='raise-deprecating',\n",
       "             estimator=Pipeline(memory=None,\n",
       "                                steps=[('preprocessor',\n",
       "                                        ColumnTransformer(n_jobs=None,\n",
       "                                                          remainder='drop',\n",
       "                                                          sparse_threshold=0.3,\n",
       "                                                          transformer_weights=None,\n",
       "                                                          transformers=[('num',\n",
       "                                                                         Pipeline(memory=None,\n",
       "                                                                                  steps=[('imputer',\n",
       "                                                                                          SimpleImputer(add_indicator=False,\n",
       "                                                                                                        copy=True,\n",
       "                                                                                                        fill_value=None,\n",
       "                                                                                                        missing_values=nan,\n",
       "                                                                                                        strategy='medi...\n",
       "                                                               random_state=None,\n",
       "                                                               splitter='best'))],\n",
       "                                verbose=False),\n",
       "             iid='warn', n_jobs=None,\n",
       "             param_grid={'classifier__criterion': ['entropy', 'gini'],\n",
       "                         'classifier__max_depth': [3, 4, 5, 6, 8, 9, 10, 12],\n",
       "                         'classifier__min_samples_leaf': [1, 5, 7, 8, 9, 10],\n",
       "                         'classifier__min_samples_split': [2, 3, 4, 10, 20]},\n",
       "             pre_dispatch='2*n_jobs', refit=True, return_train_score=False,\n",
       "             scoring=None, verbose=0)"
      ]
     },
     "execution_count": 70,
     "metadata": {},
     "output_type": "execute_result"
    }
   ],
   "source": [
    "%%time\n",
    "clf_dt = Pipeline(steps=[('preprocessor', preprocessor),\n",
    "                      ('classifier', DecisionTreeClassifier())])\n",
    "\n",
    "dt_param_grid = {'classifier__criterion': ['entropy', 'gini'], 'classifier__max_depth': [3,4,5,6,8,9,10,12], \n",
    "                 \"classifier__min_samples_split\": [2,3,4,10,20],\"classifier__min_samples_leaf\": [1, 5,7,8,9,10]}\n",
    "\n",
    "dt_grid = GridSearchCV(clf_dt, param_grid=dt_param_grid, cv=5)\n",
    "\n",
    "dt_grid.fit(X_train,y_train)"
   ]
  },
  {
   "cell_type": "code",
   "execution_count": 81,
   "metadata": {},
   "outputs": [
    {
     "data": {
      "text/plain": [
       "{'classifier__criterion': 'entropy',\n",
       " 'classifier__max_depth': 3,\n",
       " 'classifier__min_samples_leaf': 1,\n",
       " 'classifier__min_samples_split': 2}"
      ]
     },
     "execution_count": 81,
     "metadata": {},
     "output_type": "execute_result"
    }
   ],
   "source": [
    "dt_grid.best_params_"
   ]
  },
  {
   "cell_type": "code",
   "execution_count": 72,
   "metadata": {},
   "outputs": [],
   "source": [
    "train_pred = dt_grid.predict(X_train)"
   ]
  },
  {
   "cell_type": "code",
   "execution_count": 73,
   "metadata": {},
   "outputs": [],
   "source": [
    "valid_pred = dt_grid.predict(X_test)"
   ]
  },
  {
   "cell_type": "code",
   "execution_count": 74,
   "metadata": {},
   "outputs": [
    {
     "name": "stdout",
     "output_type": "stream",
     "text": [
      "1.0\n"
     ]
    }
   ],
   "source": [
    "print(dt_grid.score(X_test, y_test))"
   ]
  },
  {
   "cell_type": "code",
   "execution_count": 75,
   "metadata": {},
   "outputs": [],
   "source": [
    "# Predict on unseen data\n",
    "\n",
    "test_pred = dt_grid.predict(data_test)"
   ]
  },
  {
   "cell_type": "code",
   "execution_count": 76,
   "metadata": {},
   "outputs": [],
   "source": [
    "df=pd.DataFrame(test_pred)"
   ]
  },
  {
   "cell_type": "code",
   "execution_count": 77,
   "metadata": {},
   "outputs": [
    {
     "data": {
      "text/html": [
       "<div>\n",
       "<style scoped>\n",
       "    .dataframe tbody tr th:only-of-type {\n",
       "        vertical-align: middle;\n",
       "    }\n",
       "\n",
       "    .dataframe tbody tr th {\n",
       "        vertical-align: top;\n",
       "    }\n",
       "\n",
       "    .dataframe thead th {\n",
       "        text-align: right;\n",
       "    }\n",
       "</style>\n",
       "<table border=\"1\" class=\"dataframe\">\n",
       "  <thead>\n",
       "    <tr style=\"text-align: right;\">\n",
       "      <th></th>\n",
       "      <th>0</th>\n",
       "    </tr>\n",
       "  </thead>\n",
       "  <tbody>\n",
       "    <tr>\n",
       "      <th>0</th>\n",
       "      <td>0.0</td>\n",
       "    </tr>\n",
       "    <tr>\n",
       "      <th>1</th>\n",
       "      <td>0.0</td>\n",
       "    </tr>\n",
       "    <tr>\n",
       "      <th>2</th>\n",
       "      <td>0.0</td>\n",
       "    </tr>\n",
       "  </tbody>\n",
       "</table>\n",
       "</div>"
      ],
      "text/plain": [
       "     0\n",
       "0  0.0\n",
       "1  0.0\n",
       "2  0.0"
      ]
     },
     "execution_count": 77,
     "metadata": {},
     "output_type": "execute_result"
    }
   ],
   "source": [
    "df.head(3)"
   ]
  },
  {
   "cell_type": "code",
   "execution_count": 78,
   "metadata": {},
   "outputs": [],
   "source": [
    "data_final = pd.merge(data_test, df, left_index=True, right_index=True)"
   ]
  },
  {
   "cell_type": "code",
   "execution_count": 79,
   "metadata": {},
   "outputs": [
    {
     "data": {
      "text/html": [
       "<div>\n",
       "<style scoped>\n",
       "    .dataframe tbody tr th:only-of-type {\n",
       "        vertical-align: middle;\n",
       "    }\n",
       "\n",
       "    .dataframe tbody tr th {\n",
       "        vertical-align: top;\n",
       "    }\n",
       "\n",
       "    .dataframe thead th {\n",
       "        text-align: right;\n",
       "    }\n",
       "</style>\n",
       "<table border=\"1\" class=\"dataframe\">\n",
       "  <thead>\n",
       "    <tr style=\"text-align: right;\">\n",
       "      <th></th>\n",
       "      <th>EmployeeID</th>\n",
       "      <th>TotalWorkingHours</th>\n",
       "      <th>Billable_Hours</th>\n",
       "      <th>Hours_off_Duty</th>\n",
       "      <th>Touring_Hours</th>\n",
       "      <th>NoOfProjects</th>\n",
       "      <th>ActualTimeSpent</th>\n",
       "      <th>Job_History</th>\n",
       "      <th>Joining_Date</th>\n",
       "      <th>Designation</th>\n",
       "      <th>Sex</th>\n",
       "      <th>0</th>\n",
       "    </tr>\n",
       "  </thead>\n",
       "  <tbody>\n",
       "    <tr>\n",
       "      <th>0</th>\n",
       "      <td>emp-106</td>\n",
       "      <td>3309.5</td>\n",
       "      <td>2352.0</td>\n",
       "      <td>298.0</td>\n",
       "      <td>2.0</td>\n",
       "      <td>18</td>\n",
       "      <td>1736</td>\n",
       "      <td>4</td>\n",
       "      <td>7</td>\n",
       "      <td>Senior</td>\n",
       "      <td>0</td>\n",
       "      <td>0.0</td>\n",
       "    </tr>\n",
       "    <tr>\n",
       "      <th>1</th>\n",
       "      <td>emp-112</td>\n",
       "      <td>3178.5</td>\n",
       "      <td>2610.0</td>\n",
       "      <td>292.0</td>\n",
       "      <td>325.0</td>\n",
       "      <td>21</td>\n",
       "      <td>1708</td>\n",
       "      <td>3</td>\n",
       "      <td>7</td>\n",
       "      <td>VP</td>\n",
       "      <td>1</td>\n",
       "      <td>0.0</td>\n",
       "    </tr>\n",
       "    <tr>\n",
       "      <th>2</th>\n",
       "      <td>emp-114</td>\n",
       "      <td>3072.5</td>\n",
       "      <td>1618.7</td>\n",
       "      <td>264.0</td>\n",
       "      <td>1104.0</td>\n",
       "      <td>25</td>\n",
       "      <td>882</td>\n",
       "      <td>3</td>\n",
       "      <td>7</td>\n",
       "      <td>EVP</td>\n",
       "      <td>1</td>\n",
       "      <td>0.0</td>\n",
       "    </tr>\n",
       "  </tbody>\n",
       "</table>\n",
       "</div>"
      ],
      "text/plain": [
       "  EmployeeID  TotalWorkingHours  Billable_Hours  Hours_off_Duty  \\\n",
       "0    emp-106             3309.5          2352.0           298.0   \n",
       "1    emp-112             3178.5          2610.0           292.0   \n",
       "2    emp-114             3072.5          1618.7           264.0   \n",
       "\n",
       "   Touring_Hours  NoOfProjects  ActualTimeSpent  Job_History  Joining_Date  \\\n",
       "0            2.0            18             1736            4             7   \n",
       "1          325.0            21             1708            3             7   \n",
       "2         1104.0            25              882            3             7   \n",
       "\n",
       "  Designation Sex    0  \n",
       "0      Senior   0  0.0  \n",
       "1          VP   1  0.0  \n",
       "2         EVP   1  0.0  "
      ]
     },
     "execution_count": 79,
     "metadata": {},
     "output_type": "execute_result"
    }
   ],
   "source": [
    "data_final.head(3)"
   ]
  },
  {
   "cell_type": "code",
   "execution_count": 83,
   "metadata": {},
   "outputs": [],
   "source": [
    "data_test_attrition = data_test_attrition.merge(data_final,on=['EmployeeID'])"
   ]
  },
  {
   "cell_type": "code",
   "execution_count": 84,
   "metadata": {},
   "outputs": [],
   "source": [
    "data_test_attrition = pd.read_csv(\"test_attrition.csv\")"
   ]
  },
  {
   "cell_type": "code",
   "execution_count": 85,
   "metadata": {},
   "outputs": [
    {
     "data": {
      "text/html": [
       "<div>\n",
       "<style scoped>\n",
       "    .dataframe tbody tr th:only-of-type {\n",
       "        vertical-align: middle;\n",
       "    }\n",
       "\n",
       "    .dataframe tbody tr th {\n",
       "        vertical-align: top;\n",
       "    }\n",
       "\n",
       "    .dataframe thead th {\n",
       "        text-align: right;\n",
       "    }\n",
       "</style>\n",
       "<table border=\"1\" class=\"dataframe\">\n",
       "  <thead>\n",
       "    <tr style=\"text-align: right;\">\n",
       "      <th></th>\n",
       "      <th>EmployeeID</th>\n",
       "      <th>Left_Company</th>\n",
       "    </tr>\n",
       "  </thead>\n",
       "  <tbody>\n",
       "    <tr>\n",
       "      <th>0</th>\n",
       "      <td>emp-106</td>\n",
       "      <td>NaN</td>\n",
       "    </tr>\n",
       "    <tr>\n",
       "      <th>1</th>\n",
       "      <td>emp-112</td>\n",
       "      <td>NaN</td>\n",
       "    </tr>\n",
       "    <tr>\n",
       "      <th>2</th>\n",
       "      <td>emp-114</td>\n",
       "      <td>NaN</td>\n",
       "    </tr>\n",
       "    <tr>\n",
       "      <th>3</th>\n",
       "      <td>emp-118</td>\n",
       "      <td>NaN</td>\n",
       "    </tr>\n",
       "    <tr>\n",
       "      <th>4</th>\n",
       "      <td>emp-12</td>\n",
       "      <td>NaN</td>\n",
       "    </tr>\n",
       "  </tbody>\n",
       "</table>\n",
       "</div>"
      ],
      "text/plain": [
       "  EmployeeID  Left_Company\n",
       "0    emp-106           NaN\n",
       "1    emp-112           NaN\n",
       "2    emp-114           NaN\n",
       "3    emp-118           NaN\n",
       "4     emp-12           NaN"
      ]
     },
     "execution_count": 85,
     "metadata": {},
     "output_type": "execute_result"
    }
   ],
   "source": [
    "data_test_attrition.head()"
   ]
  },
  {
   "cell_type": "code",
   "execution_count": 86,
   "metadata": {},
   "outputs": [],
   "source": [
    "\n",
    "data_test_attrition = data_test_attrition.merge(data_final,on=['EmployeeID'])"
   ]
  },
  {
   "cell_type": "code",
   "execution_count": 87,
   "metadata": {},
   "outputs": [
    {
     "data": {
      "text/html": [
       "<div>\n",
       "<style scoped>\n",
       "    .dataframe tbody tr th:only-of-type {\n",
       "        vertical-align: middle;\n",
       "    }\n",
       "\n",
       "    .dataframe tbody tr th {\n",
       "        vertical-align: top;\n",
       "    }\n",
       "\n",
       "    .dataframe thead th {\n",
       "        text-align: right;\n",
       "    }\n",
       "</style>\n",
       "<table border=\"1\" class=\"dataframe\">\n",
       "  <thead>\n",
       "    <tr style=\"text-align: right;\">\n",
       "      <th></th>\n",
       "      <th>EmployeeID</th>\n",
       "      <th>Left_Company</th>\n",
       "      <th>TotalWorkingHours</th>\n",
       "      <th>Billable_Hours</th>\n",
       "      <th>Hours_off_Duty</th>\n",
       "      <th>Touring_Hours</th>\n",
       "      <th>NoOfProjects</th>\n",
       "      <th>ActualTimeSpent</th>\n",
       "      <th>Job_History</th>\n",
       "      <th>Joining_Date</th>\n",
       "      <th>Designation</th>\n",
       "      <th>Sex</th>\n",
       "      <th>0</th>\n",
       "    </tr>\n",
       "  </thead>\n",
       "  <tbody>\n",
       "    <tr>\n",
       "      <th>0</th>\n",
       "      <td>emp-106</td>\n",
       "      <td>NaN</td>\n",
       "      <td>3309.5</td>\n",
       "      <td>2352.0</td>\n",
       "      <td>298.0</td>\n",
       "      <td>2.0</td>\n",
       "      <td>18</td>\n",
       "      <td>1736</td>\n",
       "      <td>4</td>\n",
       "      <td>7</td>\n",
       "      <td>Senior</td>\n",
       "      <td>0</td>\n",
       "      <td>0.0</td>\n",
       "    </tr>\n",
       "    <tr>\n",
       "      <th>1</th>\n",
       "      <td>emp-112</td>\n",
       "      <td>NaN</td>\n",
       "      <td>3178.5</td>\n",
       "      <td>2610.0</td>\n",
       "      <td>292.0</td>\n",
       "      <td>325.0</td>\n",
       "      <td>21</td>\n",
       "      <td>1708</td>\n",
       "      <td>3</td>\n",
       "      <td>7</td>\n",
       "      <td>VP</td>\n",
       "      <td>1</td>\n",
       "      <td>0.0</td>\n",
       "    </tr>\n",
       "    <tr>\n",
       "      <th>2</th>\n",
       "      <td>emp-114</td>\n",
       "      <td>NaN</td>\n",
       "      <td>3072.5</td>\n",
       "      <td>1618.7</td>\n",
       "      <td>264.0</td>\n",
       "      <td>1104.0</td>\n",
       "      <td>25</td>\n",
       "      <td>882</td>\n",
       "      <td>3</td>\n",
       "      <td>7</td>\n",
       "      <td>EVP</td>\n",
       "      <td>1</td>\n",
       "      <td>0.0</td>\n",
       "    </tr>\n",
       "    <tr>\n",
       "      <th>3</th>\n",
       "      <td>emp-118</td>\n",
       "      <td>NaN</td>\n",
       "      <td>2400.0</td>\n",
       "      <td>2008.0</td>\n",
       "      <td>146.0</td>\n",
       "      <td>728.0</td>\n",
       "      <td>18</td>\n",
       "      <td>1526</td>\n",
       "      <td>2</td>\n",
       "      <td>7</td>\n",
       "      <td>EVP</td>\n",
       "      <td>1</td>\n",
       "      <td>0.0</td>\n",
       "    </tr>\n",
       "    <tr>\n",
       "      <th>4</th>\n",
       "      <td>emp-12</td>\n",
       "      <td>NaN</td>\n",
       "      <td>4491.0</td>\n",
       "      <td>2653.0</td>\n",
       "      <td>601.0</td>\n",
       "      <td>799.0</td>\n",
       "      <td>31</td>\n",
       "      <td>1883</td>\n",
       "      <td>2</td>\n",
       "      <td>13</td>\n",
       "      <td>VP</td>\n",
       "      <td>1</td>\n",
       "      <td>0.0</td>\n",
       "    </tr>\n",
       "  </tbody>\n",
       "</table>\n",
       "</div>"
      ],
      "text/plain": [
       "  EmployeeID  Left_Company  TotalWorkingHours  Billable_Hours  Hours_off_Duty  \\\n",
       "0    emp-106           NaN             3309.5          2352.0           298.0   \n",
       "1    emp-112           NaN             3178.5          2610.0           292.0   \n",
       "2    emp-114           NaN             3072.5          1618.7           264.0   \n",
       "3    emp-118           NaN             2400.0          2008.0           146.0   \n",
       "4     emp-12           NaN             4491.0          2653.0           601.0   \n",
       "\n",
       "   Touring_Hours  NoOfProjects  ActualTimeSpent  Job_History  Joining_Date  \\\n",
       "0            2.0            18             1736            4             7   \n",
       "1          325.0            21             1708            3             7   \n",
       "2         1104.0            25              882            3             7   \n",
       "3          728.0            18             1526            2             7   \n",
       "4          799.0            31             1883            2            13   \n",
       "\n",
       "  Designation Sex    0  \n",
       "0      Senior   0  0.0  \n",
       "1          VP   1  0.0  \n",
       "2         EVP   1  0.0  \n",
       "3         EVP   1  0.0  \n",
       "4          VP   1  0.0  "
      ]
     },
     "execution_count": 87,
     "metadata": {},
     "output_type": "execute_result"
    }
   ],
   "source": [
    "data_test_attrition.head()"
   ]
  },
  {
   "cell_type": "code",
   "execution_count": 88,
   "metadata": {},
   "outputs": [],
   "source": [
    "data_test_attrition.to_csv(r'C:\\Users\\applemacbook⁩\\Desktop\\machinelearning⁩\\DecisionTree_output.csv', index=False,header=False)\n",
    "\n"
   ]
  },
  {
   "cell_type": "code",
   "execution_count": 89,
   "metadata": {},
   "outputs": [
    {
     "name": "stdout",
     "output_type": "stream",
     "text": [
      "F1_Score train 0.9612594485833923\n",
      "F1_Score train 0.9612594485833923\n"
     ]
    }
   ],
   "source": [
    "from sklearn.metrics import f1_score\n",
    "\n",
    "f1_train = f1_score(y_true=y_train, y_pred=train_pred, average='weighted')\n",
    "print(\"F1_Score train\", f1_train)\n",
    "\n",
    "f1_test = f1_score(y_true=y_test, y_pred=valid_pred, average='weighted')\n",
    "print(\"F1_Score train\", f1_train)"
   ]
  },
  {
   "cell_type": "code",
   "execution_count": 166,
   "metadata": {},
   "outputs": [],
   "source": [
    "#Gradient Boosting\n",
    "#%%time\n",
    "clf = Pipeline(steps=[('preprocessor', preprocessor),\n",
    "                      ('GBM',GradientBoostingClassifier())])"
   ]
  },
  {
   "cell_type": "code",
   "execution_count": 167,
   "metadata": {},
   "outputs": [
    {
     "name": "stdout",
     "output_type": "stream",
     "text": [
      "CPU times: user 11.1 s, sys: 147 ms, total: 11.3 s\n",
      "Wall time: 11.9 s\n"
     ]
    },
    {
     "data": {
      "text/plain": [
       "GridSearchCV(cv=3, error_score='raise-deprecating',\n",
       "             estimator=Pipeline(memory=None,\n",
       "                                steps=[('preprocessor',\n",
       "                                        ColumnTransformer(n_jobs=None,\n",
       "                                                          remainder='drop',\n",
       "                                                          sparse_threshold=0.3,\n",
       "                                                          transformer_weights=None,\n",
       "                                                          transformers=[('num',\n",
       "                                                                         Pipeline(memory=None,\n",
       "                                                                                  steps=[('imputer',\n",
       "                                                                                          SimpleImputer(add_indicator=False,\n",
       "                                                                                                        copy=True,\n",
       "                                                                                                        fill_value=None,\n",
       "                                                                                                        missing_values=nan,\n",
       "                                                                                                        strategy='medi...\n",
       "                                                                   presort='auto',\n",
       "                                                                   random_state=None,\n",
       "                                                                   subsample=1.0,\n",
       "                                                                   tol=0.0001,\n",
       "                                                                   validation_fraction=0.1,\n",
       "                                                                   verbose=0,\n",
       "                                                                   warm_start=False))],\n",
       "                                verbose=False),\n",
       "             iid='warn', n_jobs=None,\n",
       "             param_grid={'GBM__max_depth': [8, 10, 12, 14],\n",
       "                         'GBM__max_features': [0.2, 0.3],\n",
       "                         'GBM__n_estimators': [10, 20, 30],\n",
       "                         'GBM__subsample': [0.8, 0.6]},\n",
       "             pre_dispatch='2*n_jobs', refit=True, return_train_score=False,\n",
       "             scoring=None, verbose=0)"
      ]
     },
     "execution_count": 167,
     "metadata": {},
     "output_type": "execute_result"
    }
   ],
   "source": [
    "%%time\n",
    "gbm_param_grid = {'GBM__max_depth': [8,10,12,14], 'GBM__subsample': [0.8, 0.6,], 'GBM__max_features':[0.2, 0.3], \n",
    "              'GBM__n_estimators': [10, 20, 30]}\n",
    "\n",
    "gbm_grid = GridSearchCV(clf, param_grid=gbm_param_grid, cv=3)\n",
    "\n",
    "gbm_grid.fit(X_train,y_train)"
   ]
  },
  {
   "cell_type": "code",
   "execution_count": 168,
   "metadata": {},
   "outputs": [
    {
     "data": {
      "text/plain": [
       "{'GBM__max_depth': 8,\n",
       " 'GBM__max_features': 0.3,\n",
       " 'GBM__n_estimators': 10,\n",
       " 'GBM__subsample': 0.8}"
      ]
     },
     "execution_count": 168,
     "metadata": {},
     "output_type": "execute_result"
    }
   ],
   "source": [
    "gbm_grid.best_params_"
   ]
  },
  {
   "cell_type": "code",
   "execution_count": 171,
   "metadata": {},
   "outputs": [
    {
     "name": "stdout",
     "output_type": "stream",
     "text": [
      "0.9948979591836735\n",
      "1.0\n"
     ]
    }
   ],
   "source": [
    "train_pred = gbm_grid.predict(X_train)\n",
    "test_pred = gbm_grid.predict(X_test)\n",
    "\n",
    "print(gbm_grid.score(X_train, y_train))\n",
    "print(gbm_grid.score(X_test, y_test))\n",
    "\n",
    "#### Using the function to calculate accuracy, precision and recall.\n",
    "\n",
    "#accuracy_precision_recall_metrics(y_true = y_test, y_pred = test_pred)"
   ]
  },
  {
   "cell_type": "code",
   "execution_count": 170,
   "metadata": {},
   "outputs": [
    {
     "name": "stdout",
     "output_type": "stream",
     "text": [
      "F1_Score train 0.9948459426417333\n",
      "F1_Score train 0.9948459426417333\n"
     ]
    }
   ],
   "source": [
    "from sklearn.metrics import f1_score\n",
    "\n",
    "f1_train = f1_score(y_true=y_train, y_pred=train_pred, average='weighted')\n",
    "print(\"F1_Score train\", f1_train)\n",
    "\n",
    "f1_test = f1_score(y_true=y_test, y_pred=valid_pred, average='weighted')\n",
    "print(\"F1_Score train\", f1_train)"
   ]
  },
  {
   "cell_type": "code",
   "execution_count": 189,
   "metadata": {},
   "outputs": [],
   "source": [
    "ans=gbm_grid.predict(data_test_attrition)"
   ]
  },
  {
   "cell_type": "code",
   "execution_count": 190,
   "metadata": {},
   "outputs": [
    {
     "data": {
      "text/plain": [
       "array([0., 0., 0., 0., 0., 1., 0., 1., 0., 1., 0., 0., 1., 0., 0., 0., 0.,\n",
       "       0., 0., 0., 0., 0., 0., 0., 0., 0., 0., 0., 1., 0., 0., 0., 0., 0.,\n",
       "       0., 0., 0., 0., 0., 0., 0., 0., 0., 0., 0., 1., 0., 0., 0., 0., 0.])"
      ]
     },
     "execution_count": 190,
     "metadata": {},
     "output_type": "execute_result"
    }
   ],
   "source": [
    "ans"
   ]
  },
  {
   "cell_type": "code",
   "execution_count": 179,
   "metadata": {},
   "outputs": [],
   "source": [
    "sample=pd.read_csv(\"sample_submission-1566542168377 (1).csv\")"
   ]
  },
  {
   "cell_type": "code",
   "execution_count": 191,
   "metadata": {},
   "outputs": [],
   "source": [
    "sample['Left_Company']=ans"
   ]
  },
  {
   "cell_type": "code",
   "execution_count": 195,
   "metadata": {},
   "outputs": [],
   "source": [
    "df=pd.DataFrame(ans)"
   ]
  },
  {
   "cell_type": "code",
   "execution_count": 194,
   "metadata": {},
   "outputs": [],
   "source": [
    "ans.to_csv(r'C:\\Users\\applemacbook⁩\\Desktop\\machinelearning⁩\\gradient_boosting_latest_output.csv', index=False,header=False)\n"
   ]
  },
  {
   "cell_type": "code",
   "execution_count": null,
   "metadata": {},
   "outputs": [],
   "source": []
  }
 ],
 "metadata": {
  "kernelspec": {
   "display_name": "Python 3",
   "language": "python",
   "name": "python3"
  },
  "language_info": {
   "codemirror_mode": {
    "name": "ipython",
    "version": 3
   },
   "file_extension": ".py",
   "mimetype": "text/x-python",
   "name": "python",
   "nbconvert_exporter": "python",
   "pygments_lexer": "ipython3",
   "version": "3.6.8"
  }
 },
 "nbformat": 4,
 "nbformat_minor": 2
}
